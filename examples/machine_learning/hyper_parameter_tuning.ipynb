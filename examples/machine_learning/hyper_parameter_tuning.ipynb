{
 "cells": [
  {
   "cell_type": "markdown",
   "metadata": {},
   "source": [
    "# Hyper-parameter tuning\n",
    "\n",
    "Random search is better than grid search: https://analyticsindiamag.com/why-is-random-search-better-than-grid-search-for-machine-learning/\n",
    "\n",
    "https://xgboost.readthedocs.io/en/latest/parameter.html\n",
    "\n",
    "https://machinelearningmastery.com/tune-learning-rate-for-gradient-boosting-with-xgboost-in-python/\n",
    "\n",
    "https://machinelearningmastery.com/xgboost-for-imbalanced-classification/\n",
    "\n",
    "https://machinelearningmastery.com/evaluate-gradient-boosting-models-xgboost-python/\n",
    "\n",
    "https://www.analyticssteps.com/blogs/introduction-model-hyperparameter-and-tuning-machine-learning\n",
    "\n",
    "GridSearchCV\n",
    "\n",
    "RandomizedSearchCV\n",
    "\n",
    "https://scikit-learn.org/stable/modules/generated/sklearn.model_selection.RandomizedSearchCV.html?highlight=randomized#sklearn.model_selection.RandomizedSearchCV\n",
    "\n",
    "ML Pipeline\n",
    "\n",
    "https://towardsdatascience.com/i-had-no-idea-how-to-build-a-machine-learning-pipeline-but-heres-what-i-figured-f3a7773513a\n",
    "\n",
    "https://scikit-learn.org/stable/modules/classes.html?highlight=pipeline#module-sklearn.pipeline\n",
    "\n",
    "Activation function\n",
    "\n",
    "https://www.analyticssteps.com/blogs/7-types-activation-functions-neural-network\n",
    "\n",
    "Loss functions (optimizers)\n",
    "\n",
    "https://www.analyticssteps.com/blogs/what-are-different-loss-functions-used-optimizers-neural-networks\n",
    "\n",
    "https://keras.io/api/losses/\n",
    "\n"
   ]
  },
  {
   "cell_type": "code",
   "execution_count": 2,
   "metadata": {},
   "outputs": [],
   "source": [
    "if False:\n",
    "    clf = XGBClassifier()\n",
    "    grid = GridSearchCV(clf,\n",
    "                    params, n_jobs=-1,\n",
    "                    scoring=\"roc_auc\",\n",
    "                    cv=3)\n",
    "\n",
    "    grid.fit(X_train, y_train)\n",
    "    print(\"Best: %f using %s\" % (grid.best_score_, grid.best_params_))"
   ]
  },
  {
   "cell_type": "code",
   "execution_count": 3,
   "metadata": {},
   "outputs": [],
   "source": [
    "if False:\n",
    "    clf = RandomizedSearchCV(clf ,param_distributions = params, cv=kfold, scoring=\"accuracy\", n_jobs= 10, verbose = 1)"
   ]
  },
  {
   "cell_type": "code",
   "execution_count": null,
   "metadata": {},
   "outputs": [],
   "source": []
  }
 ],
 "metadata": {
  "kernelspec": {
   "display_name": "Python 3",
   "language": "python",
   "name": "python3"
  },
  "language_info": {
   "codemirror_mode": {
    "name": "ipython",
    "version": 3
   },
   "file_extension": ".py",
   "mimetype": "text/x-python",
   "name": "python",
   "nbconvert_exporter": "python",
   "pygments_lexer": "ipython3",
   "version": "3.9.0"
  }
 },
 "nbformat": 4,
 "nbformat_minor": 4
}
