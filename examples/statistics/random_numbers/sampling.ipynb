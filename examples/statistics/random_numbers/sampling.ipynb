{
 "cells": [
  {
   "cell_type": "markdown",
   "metadata": {},
   "source": [
    "# Sampling with or without replacement\n",
    "\n",
    "Given a set of objects (like in a list), sample the set with or without replacement, obtain permutations, shuffle, etc.\n",
    "\n",
    "https://towardsdatascience.com/how-to-generate-random-numbers-in-python-eb5aecf3e059\n",
    "\n",
    "https://www.pythonpool.com/numpy-random/\n",
    "\n",
    "https://www.javatpoint.com/numpy-random\n",
    "\n",
    "https://www.thoughtco.com/sampling-with-or-without-replacement-3126563\n",
    "\n",
    "https://docs.python.org/3/library/random.html#real-valued-distributions\n",
    "\n",
    "https://www.thoughtco.com/example-of-bootstrapping-3126155"
   ]
  },
  {
   "cell_type": "code",
   "execution_count": 1,
   "metadata": {},
   "outputs": [],
   "source": [
    "import random\n",
    "import numpy as np\n",
    "import matplotlib.pyplot as plt\n",
    "import copy\n",
    "from time import time"
   ]
  },
  {
   "cell_type": "markdown",
   "metadata": {},
   "source": [
    "The sequence does not have to contain only numbers, can be strings, can be elements of different types, etc."
   ]
  },
  {
   "cell_type": "code",
   "execution_count": 2,
   "metadata": {},
   "outputs": [],
   "source": [
    "list_value_1 = [\"red\", \"green\", \"blue\", \"yellow\", \"orange\", \"dark\"]\n",
    "list_value_2 = [i for i in range(10)]\n",
    "list_value_3 = [{\"a\": 2, \"b\": 3}, {\"c\": 5, \"d\": 5}, {\"e\": 7, \"f\": 2}]\n",
    "list_value_4 = [{\"a\": 2, \"b\": 3}, {\"c\": 5, \"d\": 5}, \"red\", \"blue\", 7.7, 2]"
   ]
  },
  {
   "cell_type": "markdown",
   "metadata": {},
   "source": [
    "# 1. Intro: Select random elements from a sequence\n",
    "\n",
    "Can select one or several (fewer than those in the list, or more than those in a list).\n",
    "\n",
    "The same element can be choosen several times, so this is sampling with replacement. It means that after the first element is chosen, it is placed back again (re-placed, so replacement) in the set. So at the next extraction it can be extracted again, with the same probablity as the first time. As a note, sampling without replacement means that the element is no longer available to be extracted again.\n",
    "\n",
    "One element:\n",
    "\n",
    "Python: random.choice\n",
    "\n",
    "Numpy: np.random.choice\n",
    "\n",
    "Several elements:\n",
    "\n",
    "Python: random.choices\n",
    "\n",
    "Numpy: np.random.choice"
   ]
  },
  {
   "cell_type": "markdown",
   "metadata": {},
   "source": [
    "# 2. Select one element"
   ]
  },
  {
   "cell_type": "markdown",
   "metadata": {},
   "source": [
    "## 2.1 Python"
   ]
  },
  {
   "cell_type": "code",
   "execution_count": 3,
   "metadata": {},
   "outputs": [
    {
     "name": "stdout",
     "output_type": "stream",
     "text": [
      "green\n",
      "orange\n",
      "red\n",
      "\n",
      "green\n",
      "orange\n",
      "red\n",
      "\n",
      "2\n",
      "\n",
      "{'a': 2, 'b': 3}\n",
      "\n",
      "{'c': 5, 'd': 5}\n"
     ]
    }
   ],
   "source": [
    "# Python\n",
    "random.seed(1)\n",
    "value = random.choice(list_value_1)\n",
    "print(value)\n",
    "value = random.choice(list_value_1)\n",
    "print(value)\n",
    "value = random.choice(list_value_1)\n",
    "print(value)\n",
    "\n",
    "print()\n",
    "\n",
    "random.seed(1)\n",
    "value = random.choice(list_value_1)\n",
    "print(value)\n",
    "value = random.choice(list_value_1)\n",
    "print(value)\n",
    "value = random.choice(list_value_1)\n",
    "print(value)\n",
    "\n",
    "print()\n",
    "\n",
    "random.seed(1)\n",
    "value = random.choice(list_value_2)\n",
    "print(value)\n",
    "\n",
    "print()\n",
    "\n",
    "random.seed(1)\n",
    "value = random.choice(list_value_3)\n",
    "print(value)\n",
    "\n",
    "print()\n",
    "\n",
    "random.seed(1)\n",
    "value = random.choice(list_value_4)\n",
    "print(value)"
   ]
  },
  {
   "cell_type": "markdown",
   "metadata": {},
   "source": [
    "## 2.2 Numpy"
   ]
  },
  {
   "cell_type": "code",
   "execution_count": 4,
   "metadata": {},
   "outputs": [
    {
     "name": "stdout",
     "output_type": "stream",
     "text": [
      "dark\n",
      "yellow\n",
      "orange\n",
      "\n",
      "red\n",
      "green\n",
      "yellow\n",
      "\n",
      "5\n",
      "\n",
      "{'c': 5, 'd': 5}\n",
      "\n",
      "{'c': 5, 'd': 5}\n"
     ]
    }
   ],
   "source": [
    "# Numpy\n",
    "np.random.seed(1)\n",
    "value = np.random.choice(list_value_1)\n",
    "print(value)\n",
    "value = np.random.choice(list_value_1)\n",
    "print(value)\n",
    "value = np.random.choice(list_value_1)\n",
    "print(value)\n",
    "\n",
    "print()\n",
    "\n",
    "random.seed(1)\n",
    "value = np.random.choice(list_value_1)\n",
    "print(value)\n",
    "value = np.random.choice(list_value_1)\n",
    "print(value)\n",
    "value = np.random.choice(list_value_1)\n",
    "print(value)\n",
    "\n",
    "print()\n",
    "\n",
    "np.random.seed(1)\n",
    "value = np.random.choice(list_value_2)\n",
    "print(value)\n",
    "\n",
    "print()\n",
    "\n",
    "np.random.seed(1)\n",
    "value = np.random.choice(list_value_3)\n",
    "print(value)\n",
    "\n",
    "print()\n",
    "\n",
    "random.seed(1)\n",
    "value = random.choice(list_value_4)\n",
    "print(value)"
   ]
  },
  {
   "cell_type": "markdown",
   "metadata": {},
   "source": [
    "# 3. Select several elements with replacement\n",
    "\n",
    "Python: random.choice several times (with int arithmentic), or random.choices (with floating point arithmetic)\n",
    "\n",
    "Python: np.random.choice"
   ]
  },
  {
   "cell_type": "code",
   "execution_count": 5,
   "metadata": {},
   "outputs": [],
   "source": [
    "N = 7"
   ]
  },
  {
   "cell_type": "markdown",
   "metadata": {},
   "source": [
    "## 3.1 Python sampling with replacement"
   ]
  },
  {
   "cell_type": "code",
   "execution_count": 6,
   "metadata": {},
   "outputs": [
    {
     "name": "stdout",
     "output_type": "stream",
     "text": [
      "type=<class 'numpy.ndarray'>, shape=(7,), dtype=<U6, values=\n",
      "['green' 'orange' 'red' 'blue' 'red' 'yellow' 'yellow']\n"
     ]
    }
   ],
   "source": [
    "# Python: choice\n",
    "random.seed(1)\n",
    "values = np.array([random.choice(list_value_1) for _ in range(N)])\n",
    "print(f\"type={type(values)}, shape={values.shape}, dtype={values.dtype}, values=\\n{values}\")"
   ]
  },
  {
   "cell_type": "code",
   "execution_count": 7,
   "metadata": {},
   "outputs": [
    {
     "name": "stdout",
     "output_type": "stream",
     "text": [
      "type=<class 'numpy.ndarray'>, shape=(7,), dtype=<U6, values=\n",
      "['red' 'dark' 'orange' 'green' 'blue' 'blue' 'yellow']\n"
     ]
    }
   ],
   "source": [
    "# Python: choices - sampling with replacement\n",
    "random.seed(1)\n",
    "values = np.array(random.choices(list_value_1, k = N))\n",
    "print(f\"type={type(values)}, shape={values.shape}, dtype={values.dtype}, values=\\n{values}\")"
   ]
  },
  {
   "cell_type": "code",
   "execution_count": 8,
   "metadata": {},
   "outputs": [
    {
     "name": "stdout",
     "output_type": "stream",
     "text": [
      "type=<class 'numpy.ndarray'>, shape=(14,), dtype=<U6, values=\n",
      "['red' 'dark' 'orange' 'green' 'blue' 'blue' 'yellow' 'orange' 'red' 'red'\n",
      " 'dark' 'blue' 'orange' 'red']\n"
     ]
    }
   ],
   "source": [
    "# Python: choices - sampling with replacement\n",
    "random.seed(1)\n",
    "values = np.array(random.choices(list_value_1, k = 2 * N))\n",
    "print(f\"type={type(values)}, shape={values.shape}, dtype={values.dtype}, values=\\n{values}\")"
   ]
  },
  {
   "cell_type": "code",
   "execution_count": 9,
   "metadata": {},
   "outputs": [
    {
     "name": "stdout",
     "output_type": "stream",
     "text": [
      "type=<class 'list'>, values=\n",
      "['red', 'black', 'black', 'red', 'black', 'red']\n",
      "type=<class 'list'>, values=\n",
      "['red', 'black', 'black', 'red', 'black', 'red']\n",
      "type=<class 'list'>, values=\n",
      "['red', 'black', 'black', 'red', 'black', 'red']\n"
     ]
    }
   ],
   "source": [
    "# Python: choices - sampling with replacement and weighted weights\n",
    "# Six roulette wheel spins (weighted sampling with replacement)\n",
    "# In a roulette game there are 18 red, 18 black and 2 green\n",
    "# So we need a weighted sampling\n",
    "# and it is with replacement, as the colors and probabilities are the same for the next round\n",
    "# So we want to simulate 6 bets on the roulette\n",
    "# The outcome can be\n",
    "random.seed(1)\n",
    "values = random.choices(['red', 'black', 'green'], [18, 18, 2], k = 6)\n",
    "print(f\"type={type(values)}, values=\\n{values}\")\n",
    "# can add the variable name weights\n",
    "random.seed(1)\n",
    "values = random.choices(['red', 'black', 'green'], weights = [18, 18, 2], k = 6)\n",
    "print(f\"type={type(values)}, values=\\n{values}\")\n",
    "# can give instead the cumulative weights\n",
    "random.seed(1)\n",
    "values = random.choices(['red', 'black', 'green'], cum_weights = [18, 36, 38], k = 6)\n",
    "print(f\"type={type(values)}, values=\\n{values}\")"
   ]
  },
  {
   "cell_type": "code",
   "execution_count": 10,
   "metadata": {},
   "outputs": [
    {
     "name": "stdout",
     "output_type": "stream",
     "text": [
      "type=<class 'list'>, values=\n",
      "['H', 'T', 'T', 'H', 'H', 'H', 'T', 'T', 'H', 'H', 'T', 'H', 'T', 'H', 'H', 'T', 'H', 'T', 'T', 'H']\n",
      "type=<class 'list'>, values=\n",
      "['H', 'T', 'T', 'H', 'H', 'H', 'T', 'T', 'H', 'H', 'T', 'H', 'T', 'H', 'H', 'T', 'H', 'T', 'T', 'H']\n",
      "type=<class 'int'>, values=\n",
      "11\n",
      "type=<class 'bool'>, values=\n",
      "False\n",
      "type=<class 'int'>, values=\n",
      "10000\n",
      "type=<class 'float'>, values=\n",
      "0.13\n"
     ]
    }
   ],
   "source": [
    "# Python with replacement: coin throwing\n",
    "# A coin can have head (H) or tail (T) => the sequence can be the string \"HT\"\n",
    "# Let's throw the coin 7 times, so k = 20\n",
    "random.seed(1)\n",
    "values = random.choices([\"H\", \"T\"], cum_weights = [0.5, 1.0], k = 20)\n",
    "print(f\"type={type(values)}, values=\\n{values}\")\n",
    "# Let's assume the coin is biased to have 60% heads => cum_weights = [0.6, 1.0]\n",
    "random.seed(1)\n",
    "values = random.choices([\"H\", \"T\"], cum_weights = [0.6, 1.0], k = 20)\n",
    "print(f\"type={type(values)}, values=\\n{values}\")\n",
    "# calculate the probability of getting 12 or more heads out of the k = 20\n",
    "count_H = values.count(\"H\")\n",
    "print(f\"type={type(count_H)}, values=\\n{count_H}\")\n",
    "# check if count_H > m, we get a boolean\n",
    "enough_H = count_H >= 15\n",
    "print(f\"type={type(enough_H)}, values=\\n{enough_H}\")\n",
    "\n",
    "# we then repeat this many times and then calculate the fraction of experiments that get True\n",
    "N = 10_000 # write with _ to be easier to read values, can\n",
    "print(f\"type={type(N)}, values=\\n{N}\")\n",
    "random.seed(1)\n",
    "def experiment():\n",
    "    # returns a boolean\n",
    "    return random.choices(\"HT\", cum_weights = [0.6, 1.0], k = 20).count(\"H\") >= 15\n",
    "probability = sum([experiment() for _ in range(N)]) / N\n",
    "print(f\"type={type(probability)}, values=\\n{probability}\")"
   ]
  },
  {
   "cell_type": "code",
   "execution_count": 11,
   "metadata": {},
   "outputs": [
    {
     "name": "stdout",
     "output_type": "stream",
     "text": [
      "type=<class 'float'>, values=\n",
      "0.79285\n",
      "type=<class 'float'>, values=\n",
      "0.09078\n"
     ]
    }
   ],
   "source": [
    "# Python with replacement\n",
    "# We have the sequence of numbers from 0 to 9999 => range(10_000)\n",
    "# We select randomly 5 samples with replace\n",
    "# We take the median value of these 5 samples => sorted, then pick index [2]\n",
    "# Check if the median value belongs to the middle two quartiles, so N/4 <= v < 3*N/4\n",
    "# This is a boolean, outcome of one experiment\n",
    "# Throw many such experiments and calculate the fraction of events where outcome is true\n",
    "# That is the probability of this to happen\n",
    "N = 10_000\n",
    "r = range(N)\n",
    "k = 5\n",
    "nb_experiment = 100_000\n",
    "random.seed(1)\n",
    "def experiment(N):\n",
    "    return 1*N/4 <= sorted(random.choices(r, k = k))[2] < 3*N/4\n",
    "probability = sum([experiment(N) for _ in range(nb_experiment)]) / nb_experiment\n",
    "print(f\"type={type(probability)}, values=\\n{probability}\")\n",
    "# \n",
    "k = 20\n",
    "probability = sum([experiment(N) for _ in range(nb_experiment)]) / nb_experiment\n",
    "print(f\"type={type(probability)}, values=\\n{probability}\")"
   ]
  },
  {
   "cell_type": "markdown",
   "metadata": {},
   "source": [
    "## 3.2 Numpy sampling with replacement"
   ]
  },
  {
   "cell_type": "code",
   "execution_count": 12,
   "metadata": {},
   "outputs": [
    {
     "name": "stdout",
     "output_type": "stream",
     "text": [
      "type=<class 'numpy.ndarray'>, shape=(10000,), dtype=object, values=\n",
      "[2 'blue' 7.7 ... 2 {'a': 2, 'b': 3} 7.7]\n",
      "\n",
      "type=<class 'numpy.ndarray'>, shape=(3, 2), dtype=object, values=\n",
      "[[2 'red']\n",
      " ['red' {'c': 5, 'd': 5}]\n",
      " [{'a': 2, 'b': 3} {'a': 2, 'b': 3}]]\n",
      "type=<class 'numpy.ndarray'>, shape=(3, 2, 5), dtype=int64, values=\n",
      "[[[1 7 5 3 6]\n",
      "  [9 6 3 1 0]]\n",
      "\n",
      " [[7 1 3 9 0]\n",
      "  [9 1 6 3 0]]\n",
      "\n",
      " [[0 0 0 9 0]\n",
      "  [7 3 0 5 4]]]\n"
     ]
    }
   ],
   "source": [
    "# Numpy\n",
    "np.random.seed(1)\n",
    "values = np.random.choice(list_value_4, N)\n",
    "print(f\"type={type(values)}, shape={values.shape}, dtype={values.dtype}, values=\\n{values}\")\n",
    "\n",
    "print()\n",
    "\n",
    "# can give also a shape\n",
    "values = np.random.choice(list_value_4, (3, 2))\n",
    "print(f\"type={type(values)}, shape={values.shape}, dtype={values.dtype}, values=\\n{values}\")\n",
    "\n",
    "# can give also a shape\n",
    "values = np.random.choice(list_value_2, (3, 2, 5))\n",
    "print(f\"type={type(values)}, shape={values.shape}, dtype={values.dtype}, values=\\n{values}\")"
   ]
  },
  {
   "cell_type": "code",
   "execution_count": 13,
   "metadata": {},
   "outputs": [
    {
     "name": "stdout",
     "output_type": "stream",
     "text": [
      "type=<class 'list'>, values=\n",
      "[18, 18, 2]\n",
      "type=<class 'numpy.ndarray'>, shape=(3,), dtype=int64, values=\n",
      "[18 18  2]\n",
      "type=<class 'numpy.ndarray'>, shape=(3,), dtype=float64, values=\n",
      "[0.47368421 0.47368421 0.05263158]\n",
      "type=<class 'numpy.ndarray'>, shape=(6,), dtype=<U5, values=\n",
      "['red' 'black' 'red' 'red' 'red' 'red']\n",
      "type=<class 'numpy.ndarray'>, shape=(6,), dtype=<U5, values=\n",
      "['red' 'red' 'red' 'black' 'red' 'black']\n"
     ]
    }
   ],
   "source": [
    "# Numpy can also do with weights for the roulette problem\n",
    "# Numpy: choices - sampling with replacement and weighted weights\n",
    "# Six roulette wheel spins (weighted sampling with replacement)\n",
    "# In a roulette game there are 18 red, 18 black and 2 green\n",
    "# So we need a weighted sampling\n",
    "# and it is with replacement, as the colors and probabilities are the same for the next round\n",
    "# So we want to simulate 6 bets on the roulette\n",
    "# The outcome can be\n",
    "np.random.seed(1)\n",
    "# weights\n",
    "weights = [18, 18, 2]\n",
    "print(f\"type={type(weights)}, values=\\n{weights}\")\n",
    "# convert weights to probabilities\n",
    "p = np.array(weights)\n",
    "print(f\"type={type(p)}, shape={p.shape}, dtype={p.dtype}, values=\\n{p}\")\n",
    "p = p/np.sum(p)\n",
    "print(f\"type={type(p)}, shape={p.shape}, dtype={p.dtype}, values=\\n{p}\")\n",
    "# it implies replace = True\n",
    "values = np.random.choice(['red', 'black', 'green'], size = 6, p = p)\n",
    "print(f\"type={type(values)}, shape={values.shape}, dtype={values.dtype}, values=\\n{values}\")\n",
    "# \n",
    "values = np.random.choice(['red', 'black', 'green'], size = 6, p = p, replace = True)\n",
    "print(f\"type={type(values)}, shape={values.shape}, dtype={values.dtype}, values=\\n{values}\")"
   ]
  },
  {
   "cell_type": "markdown",
   "metadata": {},
   "source": [
    "# 4. Select several elements without replacement\n",
    "\n",
    "Sampling without replacement means that once an element is chosen, it is not put back in the set, so it can not be extracted again.\n",
    "\n",
    "Python: random.sample(sequence, N), where N must be N <= len(sequence)\n",
    "\n",
    "https://www.geeksforgeeks.org/python-random-sample-function/\n",
    "\n",
    "Numpy: np.random.choice(), but use replace = False. "
   ]
  },
  {
   "cell_type": "markdown",
   "metadata": {},
   "source": [
    "## 4.1 Python sampling without replacement"
   ]
  },
  {
   "cell_type": "code",
   "execution_count": 14,
   "metadata": {},
   "outputs": [
    {
     "name": "stdout",
     "output_type": "stream",
     "text": [
      "type=<class 'list'>, values=\n",
      "['red', 'green', 'blue', 'yellow', 'orange', 'dark']\n",
      "type=<class 'list'>, values=\n",
      "['green', 'orange', 'red']\n",
      "type=<class 'list'>, values=\n",
      "['green']\n",
      "type=<class 'list'>, values=\n",
      "['green', 'orange']\n",
      "type=<class 'list'>, values=\n",
      "['green', 'orange', 'red']\n",
      "type=<class 'list'>, values=\n",
      "['green', 'orange', 'red', 'dark']\n",
      "type=<class 'list'>, values=\n",
      "['green', 'orange', 'red', 'dark', 'yellow']\n",
      "type=<class 'list'>, values=\n",
      "['green', 'orange', 'red', 'dark', 'yellow', 'blue']\n"
     ]
    }
   ],
   "source": [
    "# Python\n",
    "values = copy.deepcopy(list_value_1)\n",
    "print(f\"type={type(values)}, values=\\n{values}\")\n",
    "#\n",
    "random.seed(1)\n",
    "values = random.sample(list_value_1, 3)\n",
    "print(f\"type={type(values)}, values=\\n{values}\")\n",
    "#\n",
    "random.seed(1)\n",
    "values = random.sample(list_value_1, 1)\n",
    "print(f\"type={type(values)}, values=\\n{values}\")\n",
    "#\n",
    "random.seed(1)\n",
    "values = random.sample(list_value_1, 2)\n",
    "print(f\"type={type(values)}, values=\\n{values}\")\n",
    "#\n",
    "random.seed(1)\n",
    "values = random.sample(list_value_1, 3)\n",
    "print(f\"type={type(values)}, values=\\n{values}\")\n",
    "#\n",
    "random.seed(1)\n",
    "values = random.sample(list_value_1, 4)\n",
    "print(f\"type={type(values)}, values=\\n{values}\")\n",
    "#\n",
    "random.seed(1)\n",
    "values = random.sample(list_value_1, 5)\n",
    "print(f\"type={type(values)}, values=\\n{values}\")\n",
    "#\n",
    "random.seed(1)\n",
    "values = random.sample(list_value_1, 6)\n",
    "print(f\"type={type(values)}, values=\\n{values}\")"
   ]
  },
  {
   "cell_type": "code",
   "execution_count": 15,
   "metadata": {},
   "outputs": [
    {
     "name": "stdout",
     "output_type": "stream",
     "text": [
      "type=<class 'list'>, values=\n",
      "['tens', 'low cards', 'low cards', 'tens', 'low cards', 'tens', 'low cards', 'low cards', 'low cards', 'low cards', 'low cards', 'tens', 'tens', 'low cards', 'tens', 'low cards', 'low cards', 'tens', 'low cards', 'low cards']\n",
      "type=<class 'int'>, values=\n",
      "7\n",
      "type=<class 'float'>, values=\n",
      "0.35\n"
     ]
    }
   ],
   "source": [
    "# deal 20 cards from a deck of cards without replacement\n",
    "# but care only if the cards are tens (11-14, 4 of them, of 4 colours, so 16 in total)\n",
    "# or lower cards (2-10, 9 of them, of 4 colours, so 36 in total)\n",
    "# \n",
    "random.seed(1)\n",
    "# this below will crash with error: Sample larger than population or is negative\n",
    "# values = random.sample([\"tens\", \"low cards\"], k = 20)\n",
    "# we have to tell instead how many cards are of each type with the attribute counts\n",
    "N = 20\n",
    "values = random.sample([\"tens\", \"low cards\"], counts = [16, 36], k = N)\n",
    "print(f\"type={type(values)}, values=\\n{values}\")\n",
    "# then we can ask what fraction of these are in the tens category\n",
    "count_tens = values.count(\"tens\")\n",
    "print(f\"type={type(count_tens)}, values=\\n{count_tens}\")\n",
    "fraction_tens = count_tens / N\n",
    "print(f\"type={type(fraction_tens)}, values=\\n{fraction_tens}\")"
   ]
  },
  {
   "cell_type": "markdown",
   "metadata": {},
   "source": [
    "## 4.2 Numpy sampling without replacement"
   ]
  },
  {
   "cell_type": "code",
   "execution_count": 16,
   "metadata": {},
   "outputs": [
    {
     "name": "stdout",
     "output_type": "stream",
     "text": [
      "type=<class 'list'>, values=\n",
      "['red', 'green', 'blue', 'yellow', 'orange', 'dark']\n",
      "type=<class 'numpy.ndarray'>, values=\n",
      "['blue' 'green' 'orange']\n",
      "type=<class 'numpy.ndarray'>, values=\n",
      "['orange']\n",
      "type=<class 'numpy.ndarray'>, values=\n",
      "['blue' 'red']\n",
      "type=<class 'numpy.ndarray'>, values=\n",
      "['yellow' 'dark' 'orange']\n",
      "type=<class 'numpy.ndarray'>, values=\n",
      "['green' 'dark' 'red' 'yellow']\n",
      "type=<class 'numpy.ndarray'>, values=\n",
      "['yellow' 'dark' 'green' 'red' 'blue']\n",
      "type=<class 'numpy.ndarray'>, values=\n",
      "['blue' 'dark' 'yellow' 'orange' 'green' 'red']\n"
     ]
    }
   ],
   "source": [
    "# Numpy\n",
    "values = copy.deepcopy(list_value_1)\n",
    "print(f\"type={type(values)}, values=\\n{values}\")\n",
    "#\n",
    "np.random.seed(1)\n",
    "values = np.random.choice(list_value_1, 3, replace = False)\n",
    "print(f\"type={type(values)}, values=\\n{values}\")\n",
    "#\n",
    "random.seed(1)\n",
    "values = np.random.choice(list_value_1, 1, replace = False)\n",
    "print(f\"type={type(values)}, values=\\n{values}\")\n",
    "#\n",
    "random.seed(1)\n",
    "values = np.random.choice(list_value_1, 2, replace = False)\n",
    "print(f\"type={type(values)}, values=\\n{values}\")\n",
    "#\n",
    "random.seed(1)\n",
    "values = np.random.choice(list_value_1, 3, replace = False)\n",
    "print(f\"type={type(values)}, values=\\n{values}\")\n",
    "#\n",
    "random.seed(1)\n",
    "values = np.random.choice(list_value_1, 4, replace = False)\n",
    "print(f\"type={type(values)}, values=\\n{values}\")\n",
    "#\n",
    "random.seed(1)\n",
    "values = np.random.choice(list_value_1, 5, replace = False)\n",
    "print(f\"type={type(values)}, values=\\n{values}\")\n",
    "#\n",
    "random.seed(1)\n",
    "values = np.random.choice(list_value_1, 6, replace = False)\n",
    "print(f\"type={type(values)}, values=\\n{values}\")"
   ]
  },
  {
   "cell_type": "markdown",
   "metadata": {},
   "source": [
    "# 5. Permutations\n",
    "\n",
    "The output is a sequence of the same number of elements, having the elements, but in a different order. Each element can only appear maximum once. So it means that this is sampling without replacement. Meaning once it is chosen, it is not put back in the set, so it can not be extracted again.\n",
    "\n",
    "Python: not existing.\n",
    "\n",
    "Numpy: np.random.permutation([list_value])"
   ]
  },
  {
   "cell_type": "code",
   "execution_count": 17,
   "metadata": {},
   "outputs": [
    {
     "name": "stdout",
     "output_type": "stream",
     "text": [
      "type=<class 'numpy.ndarray'>, shape=(6,), dtype=<U6, values=\n",
      "['blue' 'green' 'orange' 'red' 'yellow' 'dark']\n"
     ]
    }
   ],
   "source": [
    "# Numpy\n",
    "np.random.seed(1)\n",
    "values = np.random.permutation(list_value_1)\n",
    "print(f\"type={type(values)}, shape={values.shape}, dtype={values.dtype}, values=\\n{values}\")"
   ]
  },
  {
   "cell_type": "code",
   "execution_count": 18,
   "metadata": {},
   "outputs": [
    {
     "name": "stdout",
     "output_type": "stream",
     "text": [
      "type=<class 'numpy.ndarray'>, shape=(10,), dtype=int64, values=\n",
      "[2 9 6 4 0 3 1 7 8 5]\n"
     ]
    }
   ],
   "source": [
    "# Numpy\n",
    "np.random.seed(1)\n",
    "values = np.random.permutation(list_value_2)\n",
    "print(f\"type={type(values)}, shape={values.shape}, dtype={values.dtype}, values=\\n{values}\")"
   ]
  },
  {
   "cell_type": "code",
   "execution_count": 19,
   "metadata": {},
   "outputs": [
    {
     "data": {
      "text/plain": [
       "array([0, 1, 2, 3, 4, 5, 6, 7, 8, 9])"
      ]
     },
     "execution_count": 19,
     "metadata": {},
     "output_type": "execute_result"
    }
   ],
   "source": [
    "# if an integer is given, then it permutes np.arange(N)\n",
    "# our list_value_2 is exactly np_arange(10)\n",
    "np.arange(10)"
   ]
  },
  {
   "cell_type": "code",
   "execution_count": 20,
   "metadata": {},
   "outputs": [
    {
     "name": "stdout",
     "output_type": "stream",
     "text": [
      "type=<class 'numpy.ndarray'>, shape=(10,), dtype=int64, values=\n",
      "[2 9 6 4 0 3 1 7 8 5]\n"
     ]
    }
   ],
   "source": [
    "np.random.seed(1)\n",
    "values = np.random.permutation(10)\n",
    "print(f\"type={type(values)}, shape={values.shape}, dtype={values.dtype}, values=\\n{values}\")"
   ]
  },
  {
   "cell_type": "code",
   "execution_count": 21,
   "metadata": {},
   "outputs": [
    {
     "name": "stdout",
     "output_type": "stream",
     "text": [
      "type=<class 'numpy.ndarray'>, shape=(3,), dtype=object, values=\n",
      "[{'a': 2, 'b': 3} {'e': 7, 'f': 2} {'c': 5, 'd': 5}]\n"
     ]
    }
   ],
   "source": [
    "# Numpy - type returned as object if input list has object of different types\n",
    "np.random.seed(1)\n",
    "values = np.random.permutation(list_value_3)\n",
    "print(f\"type={type(values)}, shape={values.shape}, dtype={values.dtype}, values=\\n{values}\")"
   ]
  },
  {
   "cell_type": "code",
   "execution_count": 22,
   "metadata": {},
   "outputs": [
    {
     "name": "stdout",
     "output_type": "stream",
     "text": [
      "type=<class 'numpy.ndarray'>, shape=(6,), dtype=object, values=\n",
      "['red' {'c': 5, 'd': 5} 7.7 {'a': 2, 'b': 3} 'blue' 2]\n"
     ]
    }
   ],
   "source": [
    "# Numpy - type returned as object if input list has object of different types\n",
    "np.random.seed(1)\n",
    "values = np.random.permutation(list_value_4)\n",
    "print(f\"type={type(values)}, shape={values.shape}, dtype={values.dtype}, values=\\n{values}\")"
   ]
  },
  {
   "cell_type": "markdown",
   "metadata": {},
   "source": [
    "# 6. Shuffle\n",
    "\n",
    "Same as permutation, but change the same object in place.\n",
    "\n",
    "Can be done also with choice for the same number of elements, but it is about 50 times faster."
   ]
  },
  {
   "cell_type": "code",
   "execution_count": 23,
   "metadata": {},
   "outputs": [
    {
     "name": "stdout",
     "output_type": "stream",
     "text": [
      "type=<class 'list'>, values=\n",
      "['red', 'green', 'blue', 'yellow', 'orange', 'dark']\n",
      "type=<class 'list'>, values=\n",
      "['blue', 'yellow', 'dark', 'red', 'orange', 'green']\n"
     ]
    }
   ],
   "source": [
    "# Python - no output, but the same object is shuffled in place\n",
    "random.seed(1)\n",
    "list_value_3_2 = copy.deepcopy(list_value_1)\n",
    "print(f\"type={type(list_value_3_2)}, values=\\n{list_value_3_2}\")\n",
    "random.shuffle(list_value_3_2)\n",
    "print(f\"type={type(list_value_3_2)}, values=\\n{list_value_3_2}\")"
   ]
  },
  {
   "cell_type": "code",
   "execution_count": 24,
   "metadata": {},
   "outputs": [
    {
     "name": "stdout",
     "output_type": "stream",
     "text": [
      "type=<class 'list'>, values=\n",
      "['red', 'green', 'blue', 'yellow', 'orange', 'dark']\n",
      "type=<class 'list'>, values=\n",
      "['blue', 'green', 'orange', 'red', 'yellow', 'dark']\n"
     ]
    }
   ],
   "source": [
    "# Python - no output, but the same object is shuffled in place\n",
    "np.random.seed(1)\n",
    "list_value_3_2 = copy.deepcopy(list_value_1)\n",
    "print(f\"type={type(list_value_3_2)}, values=\\n{list_value_3_2}\")\n",
    "np.random.shuffle(list_value_3_2)\n",
    "print(f\"type={type(list_value_3_2)}, values=\\n{list_value_3_2}\")"
   ]
  },
  {
   "cell_type": "markdown",
   "metadata": {},
   "source": [
    "# 7 Bootstrapping\n",
    "\n",
    "https://www.thoughtco.com/example-of-bootstrapping-3126155\n",
    "\n",
    "https://www.youtube.com/watch?v=O_Fj4q8lgmc\n",
    "\n",
    "When we have samples of small sizes (typically < 40), we can not assume the samples have a particular distribution (Gaussian or t). Let's say we want to estimate the mean value and a 90% confidence interval (so the quantiles of 5% and 95%). Usually one needs to know a Gaussian distribution, a mean (mu) and a standard deviation (sigma). But for small samples, say with a size of 5 elements, we do not have mu and sigma. Then we apply the bootstrapping technique. \n",
    "\n",
    "Bootstrapping means that we repeat many experiments (more than hundredes, thousands). In each experiment we resample with replacement the original sample to get a new sample with the same number of elements. We calculate the mean of each experiment. We sort the sequence of means of all experiments. We identify the 5% and 95% quantiles."
   ]
  },
  {
   "cell_type": "code",
   "execution_count": 71,
   "metadata": {},
   "outputs": [
    {
     "name": "stdout",
     "output_type": "stream",
     "text": [
      "low=0.25, high=0.75\n",
      "index_low=2500, index_high=7500, index_median=5000\n"
     ]
    }
   ],
   "source": [
    "list_value = [1, 2, 4, 4, 10]\n",
    "k = len(list_value)\n",
    "nb_experiment = 10_000\n",
    "confidence_interval = 0.50 # as fraction\n",
    "edge = (1.0 - confidence_interval) / 2\n",
    "low = edge\n",
    "high = 1.0 - edge\n",
    "print(f\"low={low}, high={high}\")\n",
    "# when sorting elements, find the index of for the low % and high %\n",
    "index_low = int(nb_experiment * low)\n",
    "index_high = int(nb_experiment * high)\n",
    "index_median = int(nb_experiment * 0.5)\n",
    "print(f\"index_low={index_low}, index_high={index_high}, index_median={index_median}\")"
   ]
  },
  {
   "cell_type": "markdown",
   "metadata": {},
   "source": [
    "## 7.1 Python \n",
    "\n",
    "* sample with replacement => random.choices(), not random.sample(), which is without replacement\n",
    "\n",
    "* need mean of values in a list => from statistics import fmean as mean "
   ]
  },
  {
   "cell_type": "code",
   "execution_count": 72,
   "metadata": {},
   "outputs": [
    {
     "name": "stdout",
     "output_type": "stream",
     "text": [
      "The mean of the original sample = [1, 2, 4, 4, 10] for the 0.5 confidence interval is [3.2, 5.2].\n"
     ]
    }
   ],
   "source": [
    "from statistics import fmean as mean\n",
    "random.seed(1)\n",
    "random.choices(list_value, k = k)\n",
    "def experiment():\n",
    "    return mean(random.choices(list_value, k = k))\n",
    "list_mean_sorted = sorted([experiment() for _ in range(nb_experiment)])\n",
    "print(f\"The mean of the original sample = {list_value} for the {confidence_interval} confidence interval is [{list_mean_sorted[index_low]}, {list_mean_sorted[index_high]}].\")"
   ]
  },
  {
   "cell_type": "markdown",
   "metadata": {},
   "source": [
    "## 7.2 Numpy \n",
    "\n",
    "* sample with replacement => random.choices(replace = True)\n",
    "\n",
    "* need mean of values in a list => np.mean()"
   ]
  },
  {
   "cell_type": "code",
   "execution_count": 73,
   "metadata": {},
   "outputs": [
    {
     "name": "stdout",
     "output_type": "stream",
     "text": [
      "The mean of the original sample = [1, 2, 4, 4, 10] for the 0.5 confidence interval is [3.0, 5.2].\n"
     ]
    }
   ],
   "source": [
    "np.random.seed(1)\n",
    "np.random.choice(list_value, size = k, replace = True)\n",
    "def experiment():\n",
    "    return np.mean(np.random.choice(list_value, size = k))\n",
    "nparray_mean_sorted = np.sort([experiment() for _ in range(nb_experiment)])\n",
    "print(f\"The mean of the original sample = {list_value} for the {confidence_interval} confidence interval is [{nparray_mean_sorted[index_low]}, {nparray_mean_sorted[index_high]}].\")"
   ]
  },
  {
   "cell_type": "code",
   "execution_count": null,
   "metadata": {},
   "outputs": [],
   "source": []
  }
 ],
 "metadata": {
  "kernelspec": {
   "display_name": "Python 3",
   "language": "python",
   "name": "python3"
  },
  "language_info": {
   "codemirror_mode": {
    "name": "ipython",
    "version": 3
   },
   "file_extension": ".py",
   "mimetype": "text/x-python",
   "name": "python",
   "nbconvert_exporter": "python",
   "pygments_lexer": "ipython3",
   "version": "3.9.0"
  }
 },
 "nbformat": 4,
 "nbformat_minor": 4
}
