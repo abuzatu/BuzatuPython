{
 "cells": [
  {
   "cell_type": "markdown",
   "metadata": {},
   "source": [
    "# Float random numbers in Python and Numpy\n",
    "\n",
    "https://towardsdatascience.com/how-to-generate-random-numbers-in-python-eb5aecf3e059\n",
    "\n",
    "https://www.pythonpool.com/numpy-random/\n",
    "\n",
    "https://www.javatpoint.com/numpy-random\n",
    "\n",
    "https://docs.python.org/3/library/random.html#real-valued-distributions"
   ]
  },
  {
   "cell_type": "code",
   "execution_count": 1,
   "metadata": {},
   "outputs": [],
   "source": [
    "import random\n",
    "import numpy as np\n",
    "import matplotlib.pyplot as plt\n",
    "import copy\n",
    "from time import time"
   ]
  },
  {
   "cell_type": "markdown",
   "metadata": {},
   "source": [
    "# 1. Float from a linear distribution"
   ]
  },
  {
   "cell_type": "markdown",
   "metadata": {},
   "source": [
    "## 1.1 From Python: random.random\n",
    "\n",
    "random.random: Pseudo-random number generator using [Marsene Twister](https://en.wikipedia.org/wiki/Mersenne_Twister). The float values are drawn from a uniform half-open, distribution, meaning the low edge is included, but the high edge is excluded [0.0, 1.0)"
   ]
  },
  {
   "cell_type": "code",
   "execution_count": 2,
   "metadata": {},
   "outputs": [
    {
     "name": "stdout",
     "output_type": "stream",
     "text": [
      "0.5015756943334001\n",
      "0.45171187056563344\n",
      "0.21724379031457908\n"
     ]
    }
   ],
   "source": [
    "# every time we get a different number\n",
    "value = random.random()\n",
    "print(value)\n",
    "value = random.random()\n",
    "print(value)\n",
    "value = random.random()\n",
    "print(value)"
   ]
  },
  {
   "cell_type": "code",
   "execution_count": 3,
   "metadata": {},
   "outputs": [
    {
     "name": "stdout",
     "output_type": "stream",
     "text": [
      "0.9779935312630812\n",
      "0.6305018861976718\n",
      "0.9225977509210885\n"
     ]
    }
   ],
   "source": [
    "# if we want to get these three numbers again,\n",
    "# it is not enough to just call it three times\n",
    "# as long as we go on we will get other new values\n",
    "value = random.random()\n",
    "print(value)\n",
    "value = random.random()\n",
    "print(value)\n",
    "value = random.random()\n",
    "print(value)"
   ]
  },
  {
   "cell_type": "code",
   "execution_count": 4,
   "metadata": {},
   "outputs": [
    {
     "name": "stdout",
     "output_type": "stream",
     "text": [
      "0.6394267984578837\n",
      "0.025010755222666936\n",
      "0.27502931836911926\n"
     ]
    }
   ],
   "source": [
    "# to be able to reproduce the sequence, we set a seed value\n",
    "# from than on it resets the values\n",
    "random.seed(42)\n",
    "value = random.random()\n",
    "print(value)\n",
    "value = random.random()\n",
    "print(value)\n",
    "value = random.random()\n",
    "print(value)"
   ]
  },
  {
   "cell_type": "code",
   "execution_count": 5,
   "metadata": {},
   "outputs": [
    {
     "name": "stdout",
     "output_type": "stream",
     "text": [
      "0.13436424411240122\n",
      "0.8474337369372327\n",
      "0.763774618976614\n"
     ]
    }
   ],
   "source": [
    "# other seed will give other values\n",
    "random.seed(1)\n",
    "value = random.random()\n",
    "print(value)\n",
    "value = random.random()\n",
    "print(value)\n",
    "value = random.random()\n",
    "print(value)"
   ]
  },
  {
   "cell_type": "code",
   "execution_count": 6,
   "metadata": {},
   "outputs": [
    {
     "name": "stdout",
     "output_type": "stream",
     "text": [
      "0.6394267984578837\n",
      "0.025010755222666936\n",
      "0.27502931836911926\n"
     ]
    }
   ],
   "source": [
    "# we can reproduce the first values values by resetting the seed again\n",
    "random.seed(42)\n",
    "value = random.random()\n",
    "print(value)\n",
    "value = random.random()\n",
    "print(value)\n",
    "value = random.random()\n",
    "print(value)"
   ]
  },
  {
   "cell_type": "code",
   "execution_count": 7,
   "metadata": {},
   "outputs": [
    {
     "name": "stdout",
     "output_type": "stream",
     "text": [
      "0.13436424411240122\n",
      "0.8474337369372327\n",
      "0.763774618976614\n"
     ]
    }
   ],
   "source": [
    "# we can reproduce the first values values by resetting the seed again\n",
    "random.seed(1)\n",
    "value = random.random()\n",
    "print(value)\n",
    "value = random.random()\n",
    "print(value)\n",
    "value = random.random()\n",
    "print(value)"
   ]
  },
  {
   "cell_type": "markdown",
   "metadata": {},
   "source": [
    "Let's check that indeed the numbers are from the linear uniform distribution between [0, 1]\n",
    "\n",
    "So let's generate several numbers and plot them in a histogram. \n",
    "\n",
    "Indeed, the range is confirmed to be [0, 1). The more numbers there are, the closer the distribution to uniform."
   ]
  },
  {
   "cell_type": "code",
   "execution_count": 8,
   "metadata": {},
   "outputs": [
    {
     "name": "stdout",
     "output_type": "stream",
     "text": [
      "list_value has 100 elements\n"
     ]
    },
    {
     "data": {
      "text/plain": [
       "(array([2., 1., 5., 1., 1., 0., 0., 0., 0., 1., 0., 1., 0., 1., 0., 0., 1.,\n",
       "        1., 1., 0., 0., 2., 2., 3., 1., 1., 1., 0., 0., 1., 1., 0., 0., 1.,\n",
       "        0., 0., 0., 1., 1., 2., 0., 1., 3., 2., 2., 1., 2., 0., 0., 3., 2.,\n",
       "        2., 2., 0., 2., 3., 1., 0., 1., 3., 0., 0., 0., 0., 1., 1., 0., 2.,\n",
       "        0., 0., 2., 1., 2., 0., 1., 0., 2., 1., 2., 1., 1., 1., 1., 1., 2.,\n",
       "        2., 2., 0., 1., 1., 1., 0., 0., 0., 2., 2., 1., 0., 1., 2.]),\n",
       " array([0.00210605, 0.01201043, 0.0219148 , 0.03181917, 0.04172355,\n",
       "        0.05162792, 0.06153229, 0.07143667, 0.08134104, 0.09124542,\n",
       "        0.10114979, 0.11105416, 0.12095854, 0.13086291, 0.14076728,\n",
       "        0.15067166, 0.16057603, 0.1704804 , 0.18038478, 0.19028915,\n",
       "        0.20019353, 0.2100979 , 0.22000227, 0.22990665, 0.23981102,\n",
       "        0.24971539, 0.25961977, 0.26952414, 0.27942851, 0.28933289,\n",
       "        0.29923726, 0.30914163, 0.31904601, 0.32895038, 0.33885476,\n",
       "        0.34875913, 0.3586635 , 0.36856788, 0.37847225, 0.38837662,\n",
       "        0.398281  , 0.40818537, 0.41808974, 0.42799412, 0.43789849,\n",
       "        0.44780286, 0.45770724, 0.46761161, 0.47751599, 0.48742036,\n",
       "        0.49732473, 0.50722911, 0.51713348, 0.52703785, 0.53694223,\n",
       "        0.5468466 , 0.55675097, 0.56665535, 0.57655972, 0.5864641 ,\n",
       "        0.59636847, 0.60627284, 0.61617722, 0.62608159, 0.63598596,\n",
       "        0.64589034, 0.65579471, 0.66569908, 0.67560346, 0.68550783,\n",
       "        0.6954122 , 0.70531658, 0.71522095, 0.72512533, 0.7350297 ,\n",
       "        0.74493407, 0.75483845, 0.76474282, 0.77464719, 0.78455157,\n",
       "        0.79445594, 0.80436031, 0.81426469, 0.82416906, 0.83407343,\n",
       "        0.84397781, 0.85388218, 0.86378656, 0.87369093, 0.8835953 ,\n",
       "        0.89349968, 0.90340405, 0.91330842, 0.9232128 , 0.93311717,\n",
       "        0.94302154, 0.95292592, 0.96283029, 0.97273466, 0.98263904,\n",
       "        0.99254341]),\n",
       " <BarContainer object of 100 artists>)"
      ]
     },
     "execution_count": 8,
     "metadata": {},
     "output_type": "execute_result"
    },
    {
     "data": {
      "image/png": "[encoded data removed]",
      "text/plain": [
       "<Figure size 432x288 with 1 Axes>"
      ]
     },
     "metadata": {
      "needs_background": "light"
     },
     "output_type": "display_data"
    }
   ],
   "source": [
    "# one hundred\n",
    "N = 100\n",
    "random.seed(1)\n",
    "list_value = [random.random() for _ in range(N)]\n",
    "print(f\"list_value has {len(list_value)} elements\")\n",
    "# let's plot the histogram\n",
    "plt.hist(list_value, bins = 100)"
   ]
  },
  {
   "cell_type": "code",
   "execution_count": 9,
   "metadata": {},
   "outputs": [
    {
     "name": "stdout",
     "output_type": "stream",
     "text": [
      "list_value has 1000 elements\n"
     ]
    },
    {
     "data": {
      "text/plain": [
       "(array([11.,  9., 16., 12.,  7.,  7.,  7.,  9.,  8., 10., 12., 12.,  7.,\n",
       "         8.,  5.,  9., 12.,  9.,  7.,  3.,  9.,  9., 10.,  9., 10., 14.,\n",
       "        12.,  8.,  7., 12., 12., 11., 10.,  9., 12.,  8.,  6., 11., 11.,\n",
       "        11., 11.,  9., 10., 10., 10.,  9.,  7.,  3., 10., 12., 14., 12.,\n",
       "        14.,  6., 20.,  8.,  7., 14., 10., 10.,  9.,  7.,  7., 10., 12.,\n",
       "         8.,  8., 11.,  9.,  6., 13., 14.,  9.,  7., 16.,  7.,  9.,  7.,\n",
       "        12., 14.,  9., 11.,  6., 14., 15., 14., 11.,  5., 15., 11., 12.,\n",
       "        13., 10.,  5.,  8.,  7., 10., 17., 16.,  9.]),\n",
       " array([8.44717949e-04, 1.08178703e-02, 2.07910226e-02, 3.07641750e-02,\n",
       "        4.07373273e-02, 5.07104797e-02, 6.06836320e-02, 7.06567844e-02,\n",
       "        8.06299367e-02, 9.06030890e-02, 1.00576241e-01, 1.10549394e-01,\n",
       "        1.20522546e-01, 1.30495698e-01, 1.40468851e-01, 1.50442003e-01,\n",
       "        1.60415155e-01, 1.70388308e-01, 1.80361460e-01, 1.90334612e-01,\n",
       "        2.00307765e-01, 2.10280917e-01, 2.20254070e-01, 2.30227222e-01,\n",
       "        2.40200374e-01, 2.50173527e-01, 2.60146679e-01, 2.70119831e-01,\n",
       "        2.80092984e-01, 2.90066136e-01, 3.00039288e-01, 3.10012441e-01,\n",
       "        3.19985593e-01, 3.29958745e-01, 3.39931898e-01, 3.49905050e-01,\n",
       "        3.59878202e-01, 3.69851355e-01, 3.79824507e-01, 3.89797659e-01,\n",
       "        3.99770812e-01, 4.09743964e-01, 4.19717116e-01, 4.29690269e-01,\n",
       "        4.39663421e-01, 4.49636573e-01, 4.59609726e-01, 4.69582878e-01,\n",
       "        4.79556030e-01, 4.89529183e-01, 4.99502335e-01, 5.09475487e-01,\n",
       "        5.19448640e-01, 5.29421792e-01, 5.39394944e-01, 5.49368097e-01,\n",
       "        5.59341249e-01, 5.69314402e-01, 5.79287554e-01, 5.89260706e-01,\n",
       "        5.99233859e-01, 6.09207011e-01, 6.19180163e-01, 6.29153316e-01,\n",
       "        6.39126468e-01, 6.49099620e-01, 6.59072773e-01, 6.69045925e-01,\n",
       "        6.79019077e-01, 6.88992230e-01, 6.98965382e-01, 7.08938534e-01,\n",
       "        7.18911687e-01, 7.28884839e-01, 7.38857991e-01, 7.48831144e-01,\n",
       "        7.58804296e-01, 7.68777448e-01, 7.78750601e-01, 7.88723753e-01,\n",
       "        7.98696905e-01, 8.08670058e-01, 8.18643210e-01, 8.28616362e-01,\n",
       "        8.38589515e-01, 8.48562667e-01, 8.58535819e-01, 8.68508972e-01,\n",
       "        8.78482124e-01, 8.88455277e-01, 8.98428429e-01, 9.08401581e-01,\n",
       "        9.18374734e-01, 9.28347886e-01, 9.38321038e-01, 9.48294191e-01,\n",
       "        9.58267343e-01, 9.68240495e-01, 9.78213648e-01, 9.88186800e-01,\n",
       "        9.98159952e-01]),\n",
       " <BarContainer object of 100 artists>)"
      ]
     },
     "execution_count": 9,
     "metadata": {},
     "output_type": "execute_result"
    },
    {
     "data": {
      "image/png": "[encoded data removed]",
      "text/plain": [
       "<Figure size 432x288 with 1 Axes>"
      ]
     },
     "metadata": {
      "needs_background": "light"
     },
     "output_type": "display_data"
    }
   ],
   "source": [
    "# one thousand\n",
    "N = 1000\n",
    "random.seed(1)\n",
    "list_value = [random.random() for _ in range(N)]\n",
    "print(f\"list_value has {len(list_value)} elements\")\n",
    "# let's plot the histogram\n",
    "plt.hist(list_value, bins = 100)"
   ]
  },
  {
   "cell_type": "code",
   "execution_count": 10,
   "metadata": {},
   "outputs": [
    {
     "name": "stdout",
     "output_type": "stream",
     "text": [
      "list_value has 10000 elements\n"
     ]
    },
    {
     "data": {
      "text/plain": [
       "(array([113., 116.,  89., 110., 110., 113., 101.,  95.,  93., 106.,  96.,\n",
       "         98.,  79.,  92., 116.,  97., 112., 116.,  91., 120., 103., 124.,\n",
       "         86.,  90.,  98.,  99.,  94.,  84.,  87.,  88., 104., 104.,  98.,\n",
       "         84., 102., 108., 100., 110., 106., 109.,  98.,  89., 116., 120.,\n",
       "         99., 100.,  97.,  90.,  82.,  92.,  91.,  97.,  93.,  93., 123.,\n",
       "         99.,  93., 107., 101., 101., 100., 111., 104.,  97., 104.,  86.,\n",
       "        117.,  98., 100.,  81., 105.,  95.,  91.,  65., 115., 101., 100.,\n",
       "         98.,  96.,  94.,  92., 106.,  97., 104.,  97., 128.,  87.,  92.,\n",
       "         90.,  92., 112., 101., 116.,  99.,  92.,  82., 117., 109., 100.,\n",
       "        107.]),\n",
       " array([2.21705855e-04, 1.02188482e-02, 2.02159906e-02, 3.02131330e-02,\n",
       "        4.02102754e-02, 5.02074178e-02, 6.02045602e-02, 7.02017026e-02,\n",
       "        8.01988450e-02, 9.01959874e-02, 1.00193130e-01, 1.10190272e-01,\n",
       "        1.20187415e-01, 1.30184557e-01, 1.40181699e-01, 1.50178842e-01,\n",
       "        1.60175984e-01, 1.70173126e-01, 1.80170269e-01, 1.90167411e-01,\n",
       "        2.00164554e-01, 2.10161696e-01, 2.20158838e-01, 2.30155981e-01,\n",
       "        2.40153123e-01, 2.50150266e-01, 2.60147408e-01, 2.70144550e-01,\n",
       "        2.80141693e-01, 2.90138835e-01, 3.00135978e-01, 3.10133120e-01,\n",
       "        3.20130262e-01, 3.30127405e-01, 3.40124547e-01, 3.50121690e-01,\n",
       "        3.60118832e-01, 3.70115974e-01, 3.80113117e-01, 3.90110259e-01,\n",
       "        4.00107401e-01, 4.10104544e-01, 4.20101686e-01, 4.30098829e-01,\n",
       "        4.40095971e-01, 4.50093113e-01, 4.60090256e-01, 4.70087398e-01,\n",
       "        4.80084541e-01, 4.90081683e-01, 5.00078825e-01, 5.10075968e-01,\n",
       "        5.20073110e-01, 5.30070253e-01, 5.40067395e-01, 5.50064537e-01,\n",
       "        5.60061680e-01, 5.70058822e-01, 5.80055965e-01, 5.90053107e-01,\n",
       "        6.00050249e-01, 6.10047392e-01, 6.20044534e-01, 6.30041676e-01,\n",
       "        6.40038819e-01, 6.50035961e-01, 6.60033104e-01, 6.70030246e-01,\n",
       "        6.80027388e-01, 6.90024531e-01, 7.00021673e-01, 7.10018816e-01,\n",
       "        7.20015958e-01, 7.30013100e-01, 7.40010243e-01, 7.50007385e-01,\n",
       "        7.60004528e-01, 7.70001670e-01, 7.79998812e-01, 7.89995955e-01,\n",
       "        7.99993097e-01, 8.09990240e-01, 8.19987382e-01, 8.29984524e-01,\n",
       "        8.39981667e-01, 8.49978809e-01, 8.59975951e-01, 8.69973094e-01,\n",
       "        8.79970236e-01, 8.89967379e-01, 8.99964521e-01, 9.09961663e-01,\n",
       "        9.19958806e-01, 9.29955948e-01, 9.39953091e-01, 9.49950233e-01,\n",
       "        9.59947375e-01, 9.69944518e-01, 9.79941660e-01, 9.89938803e-01,\n",
       "        9.99935945e-01]),\n",
       " <BarContainer object of 100 artists>)"
      ]
     },
     "execution_count": 10,
     "metadata": {},
     "output_type": "execute_result"
    },
    {
     "data": {
      "image/png": "[encoded data removed]",
      "text/plain": [
       "<Figure size 432x288 with 1 Axes>"
      ]
     },
     "metadata": {
      "needs_background": "light"
     },
     "output_type": "display_data"
    }
   ],
   "source": [
    "# ten thousand\n",
    "N = 10_000\n",
    "random.seed(1)\n",
    "list_value = [random.random() for _ in range(N)]\n",
    "print(f\"list_value has {len(list_value)} elements\")\n",
    "# let's plot the histogram\n",
    "plt.hist(list_value, bins = 100)"
   ]
  },
  {
   "cell_type": "code",
   "execution_count": 11,
   "metadata": {},
   "outputs": [
    {
     "name": "stdout",
     "output_type": "stream",
     "text": [
      "list_value has 100000 elements\n"
     ]
    },
    {
     "data": {
      "text/plain": [
       "(array([1012.,  985., 1029.,  954.,  959., 1022.,  984., 1007.,  974.,\n",
       "        1049., 1045.,  993.,  962.,  955., 1046., 1001., 1026., 1014.,\n",
       "        1028., 1026., 1014., 1013.,  964., 1044., 1008., 1007.,  963.,\n",
       "         999.,  945.,  949.,  952., 1008.,  985.,  934., 1022.,  941.,\n",
       "         980., 1025., 1025., 1007.,  989., 1021., 1069., 1050.,  994.,\n",
       "        1060., 1017.,  977.,  994., 1013., 1058.,  935., 1029., 1033.,\n",
       "        1036., 1014., 1038., 1019.,  985.,  994., 1011.,  987.,  958.,\n",
       "        1005.,  969., 1002.,  955.,  974.,  983.,  991.,  990.,  943.,\n",
       "        1017.,  991.,  991., 1023.,  994.,  935.,  948.,  984.,  950.,\n",
       "        1004., 1006., 1018.,  981., 1015.,  996., 1022., 1045.,  981.,\n",
       "        1072.,  979., 1021., 1011.,  969., 1000.,  976., 1025., 1059.,\n",
       "        1038.]),\n",
       " array([1.85316793e-05, 1.00182669e-02, 2.00180022e-02, 3.00177375e-02,\n",
       "        4.00174727e-02, 5.00172080e-02, 6.00169433e-02, 7.00166785e-02,\n",
       "        8.00164138e-02, 9.00161491e-02, 1.00015884e-01, 1.10015620e-01,\n",
       "        1.20015355e-01, 1.30015090e-01, 1.40014825e-01, 1.50014561e-01,\n",
       "        1.60014296e-01, 1.70014031e-01, 1.80013766e-01, 1.90013502e-01,\n",
       "        2.00013237e-01, 2.10012972e-01, 2.20012707e-01, 2.30012443e-01,\n",
       "        2.40012178e-01, 2.50011913e-01, 2.60011649e-01, 2.70011384e-01,\n",
       "        2.80011119e-01, 2.90010854e-01, 3.00010590e-01, 3.10010325e-01,\n",
       "        3.20010060e-01, 3.30009795e-01, 3.40009531e-01, 3.50009266e-01,\n",
       "        3.60009001e-01, 3.70008736e-01, 3.80008472e-01, 3.90008207e-01,\n",
       "        4.00007942e-01, 4.10007677e-01, 4.20007413e-01, 4.30007148e-01,\n",
       "        4.40006883e-01, 4.50006619e-01, 4.60006354e-01, 4.70006089e-01,\n",
       "        4.80005824e-01, 4.90005560e-01, 5.00005295e-01, 5.10005030e-01,\n",
       "        5.20004765e-01, 5.30004501e-01, 5.40004236e-01, 5.50003971e-01,\n",
       "        5.60003706e-01, 5.70003442e-01, 5.80003177e-01, 5.90002912e-01,\n",
       "        6.00002647e-01, 6.10002383e-01, 6.20002118e-01, 6.30001853e-01,\n",
       "        6.40001589e-01, 6.50001324e-01, 6.60001059e-01, 6.70000794e-01,\n",
       "        6.80000530e-01, 6.90000265e-01, 7.00000000e-01, 7.09999735e-01,\n",
       "        7.19999471e-01, 7.29999206e-01, 7.39998941e-01, 7.49998676e-01,\n",
       "        7.59998412e-01, 7.69998147e-01, 7.79997882e-01, 7.89997617e-01,\n",
       "        7.99997353e-01, 8.09997088e-01, 8.19996823e-01, 8.29996559e-01,\n",
       "        8.39996294e-01, 8.49996029e-01, 8.59995764e-01, 8.69995500e-01,\n",
       "        8.79995235e-01, 8.89994970e-01, 8.99994705e-01, 9.09994441e-01,\n",
       "        9.19994176e-01, 9.29993911e-01, 9.39993646e-01, 9.49993382e-01,\n",
       "        9.59993117e-01, 9.69992852e-01, 9.79992587e-01, 9.89992323e-01,\n",
       "        9.99992058e-01]),\n",
       " <BarContainer object of 100 artists>)"
      ]
     },
     "execution_count": 11,
     "metadata": {},
     "output_type": "execute_result"
    },
    {
     "data": {
      "image/png": "[encoded data removed]",
      "text/plain": [
       "<Figure size 432x288 with 1 Axes>"
      ]
     },
     "metadata": {
      "needs_background": "light"
     },
     "output_type": "display_data"
    }
   ],
   "source": [
    "# hundred thousand\n",
    "N = 100_000\n",
    "random.seed(1)\n",
    "list_value = [random.random() for _ in range(N)]\n",
    "print(f\"list_value has {len(list_value)} elements\")\n",
    "# let's plot the histogram\n",
    "plt.hist(list_value, bins = 100)"
   ]
  },
  {
   "cell_type": "code",
   "execution_count": 12,
   "metadata": {},
   "outputs": [
    {
     "name": "stdout",
     "output_type": "stream",
     "text": [
      "list_value has 1000000 elements\n"
     ]
    },
    {
     "data": {
      "text/plain": [
       "(array([ 9973.,  9943., 10070.,  9875.,  9897., 10143.,  9991.,  9883.,\n",
       "         9965.,  9986., 10151., 10031.,  9987., 10167., 10211.,  9956.,\n",
       "        10270.,  9842., 10019.,  9950.,  9952., 10086.,  9972.,  9970.,\n",
       "        10001.,  9998.,  9838.,  9979., 10148.,  9986.,  9896.,  9866.,\n",
       "         9991.,  9767.,  9979.,  9860.,  9962.,  9995.,  9994.,  9836.,\n",
       "        10012.,  9931., 10071., 10091.,  9827., 10158., 10070.,  9964.,\n",
       "         9946., 10103., 10015.,  9980.,  9994.,  9988., 10151., 10045.,\n",
       "         9955., 10012.,  9893., 10004., 10084., 10028.,  9991.,  9934.,\n",
       "         9998., 10208.,  9844.,  9907.,  9927., 10208., 10006.,  9913.,\n",
       "        10053., 10028.,  9969., 10202., 10040.,  9986.,  9883., 10081.,\n",
       "         9954.,  9954.,  9946., 10058., 10129., 10120.,  9920.,  9868.,\n",
       "         9974.,  9919., 10184., 10015., 10004.,  9961., 10021., 10123.,\n",
       "         9867., 10005., 10101.,  9991.]),\n",
       " array([9.79097042e-07, 1.00009640e-02, 2.00009488e-02, 3.00009337e-02,\n",
       "        4.00009185e-02, 5.00009034e-02, 6.00008883e-02, 7.00008731e-02,\n",
       "        8.00008580e-02, 9.00008428e-02, 1.00000828e-01, 1.10000813e-01,\n",
       "        1.20000797e-01, 1.30000782e-01, 1.40000767e-01, 1.50000752e-01,\n",
       "        1.60000737e-01, 1.70000722e-01, 1.80000707e-01, 1.90000691e-01,\n",
       "        2.00000676e-01, 2.10000661e-01, 2.20000646e-01, 2.30000631e-01,\n",
       "        2.40000616e-01, 2.50000601e-01, 2.60000585e-01, 2.70000570e-01,\n",
       "        2.80000555e-01, 2.90000540e-01, 3.00000525e-01, 3.10000510e-01,\n",
       "        3.20000495e-01, 3.30000479e-01, 3.40000464e-01, 3.50000449e-01,\n",
       "        3.60000434e-01, 3.70000419e-01, 3.80000404e-01, 3.90000389e-01,\n",
       "        4.00000374e-01, 4.10000358e-01, 4.20000343e-01, 4.30000328e-01,\n",
       "        4.40000313e-01, 4.50000298e-01, 4.60000283e-01, 4.70000268e-01,\n",
       "        4.80000252e-01, 4.90000237e-01, 5.00000222e-01, 5.10000207e-01,\n",
       "        5.20000192e-01, 5.30000177e-01, 5.40000162e-01, 5.50000146e-01,\n",
       "        5.60000131e-01, 5.70000116e-01, 5.80000101e-01, 5.90000086e-01,\n",
       "        6.00000071e-01, 6.10000056e-01, 6.20000040e-01, 6.30000025e-01,\n",
       "        6.40000010e-01, 6.49999995e-01, 6.59999980e-01, 6.69999965e-01,\n",
       "        6.79999950e-01, 6.89999934e-01, 6.99999919e-01, 7.09999904e-01,\n",
       "        7.19999889e-01, 7.29999874e-01, 7.39999859e-01, 7.49999844e-01,\n",
       "        7.59999828e-01, 7.69999813e-01, 7.79999798e-01, 7.89999783e-01,\n",
       "        7.99999768e-01, 8.09999753e-01, 8.19999738e-01, 8.29999723e-01,\n",
       "        8.39999707e-01, 8.49999692e-01, 8.59999677e-01, 8.69999662e-01,\n",
       "        8.79999647e-01, 8.89999632e-01, 8.99999617e-01, 9.09999601e-01,\n",
       "        9.19999586e-01, 9.29999571e-01, 9.39999556e-01, 9.49999541e-01,\n",
       "        9.59999526e-01, 9.69999511e-01, 9.79999495e-01, 9.89999480e-01,\n",
       "        9.99999465e-01]),\n",
       " <BarContainer object of 100 artists>)"
      ]
     },
     "execution_count": 12,
     "metadata": {},
     "output_type": "execute_result"
    },
    {
     "data": {
      "image/png": "[encoded data removed]",
      "text/plain": [
       "<Figure size 432x288 with 1 Axes>"
      ]
     },
     "metadata": {
      "needs_background": "light"
     },
     "output_type": "display_data"
    }
   ],
   "source": [
    "# one million\n",
    "N = 1_000_000\n",
    "random.seed(1)\n",
    "list_value = [random.random() for _ in range(N)]\n",
    "print(f\"list_value has {len(list_value)} elements\")\n",
    "# let's plot the histogram\n",
    "plt.hist(list_value, bins = 100)"
   ]
  },
  {
   "cell_type": "code",
   "execution_count": 13,
   "metadata": {},
   "outputs": [
    {
     "name": "stdout",
     "output_type": "stream",
     "text": [
      "list_value has 10000000 elements\n"
     ]
    },
    {
     "data": {
      "text/plain": [
       "(array([ 99781., 100374.,  99823., 100042.,  99764., 100225.,  99888.,\n",
       "         99903.,  99982.,  99974., 100248.,  99788.,  99905.,  99771.,\n",
       "        100177., 100070., 100867., 100077., 100422., 100128., 100092.,\n",
       "         99964., 100055., 100312.,  99713., 100412.,  99929.,  99701.,\n",
       "        100093.,  99668.,  99483.,  99545.,  99835.,  99889., 100545.,\n",
       "         99766., 100326.,  99374.,  99808., 100015., 100495.,  99936.,\n",
       "        100162.,  99767.,  99629.,  99947.,  99968.,  99886.,  99680.,\n",
       "        100366., 100157.,  99602., 100541., 100178.,  99560., 100531.,\n",
       "        100010.,  99601., 100199.,  99883., 100039., 100244.,  99996.,\n",
       "        100376., 100081., 100527.,  99608., 100141., 100332.,  99819.,\n",
       "        100165.,  99802., 100523., 100239.,  99812., 100322.,  99919.,\n",
       "         99623.,  99543., 100387., 100454.,  99322., 100151., 100261.,\n",
       "        100029.,  99649.,  99408., 100099., 100065., 100221., 100446.,\n",
       "         99893., 100181.,  99872., 100015.,  99755.,  99336., 100257.,\n",
       "         99458.,  99798.]),\n",
       " array([2.43546852e-07, 1.00002409e-02, 2.00002383e-02, 3.00002357e-02,\n",
       "        4.00002331e-02, 5.00002305e-02, 6.00002279e-02, 7.00002252e-02,\n",
       "        8.00002226e-02, 9.00002200e-02, 1.00000217e-01, 1.10000215e-01,\n",
       "        1.20000212e-01, 1.30000210e-01, 1.40000207e-01, 1.50000204e-01,\n",
       "        1.60000202e-01, 1.70000199e-01, 1.80000196e-01, 1.90000194e-01,\n",
       "        2.00000191e-01, 2.10000189e-01, 2.20000186e-01, 2.30000183e-01,\n",
       "        2.40000181e-01, 2.50000178e-01, 2.60000176e-01, 2.70000173e-01,\n",
       "        2.80000170e-01, 2.90000168e-01, 3.00000165e-01, 3.10000162e-01,\n",
       "        3.20000160e-01, 3.30000157e-01, 3.40000155e-01, 3.50000152e-01,\n",
       "        3.60000149e-01, 3.70000147e-01, 3.80000144e-01, 3.90000142e-01,\n",
       "        4.00000139e-01, 4.10000136e-01, 4.20000134e-01, 4.30000131e-01,\n",
       "        4.40000128e-01, 4.50000126e-01, 4.60000123e-01, 4.70000121e-01,\n",
       "        4.80000118e-01, 4.90000115e-01, 5.00000113e-01, 5.10000110e-01,\n",
       "        5.20000108e-01, 5.30000105e-01, 5.40000102e-01, 5.50000100e-01,\n",
       "        5.60000097e-01, 5.70000094e-01, 5.80000092e-01, 5.90000089e-01,\n",
       "        6.00000087e-01, 6.10000084e-01, 6.20000081e-01, 6.30000079e-01,\n",
       "        6.40000076e-01, 6.50000074e-01, 6.60000071e-01, 6.70000068e-01,\n",
       "        6.80000066e-01, 6.90000063e-01, 7.00000060e-01, 7.10000058e-01,\n",
       "        7.20000055e-01, 7.30000053e-01, 7.40000050e-01, 7.50000047e-01,\n",
       "        7.60000045e-01, 7.70000042e-01, 7.80000040e-01, 7.90000037e-01,\n",
       "        8.00000034e-01, 8.10000032e-01, 8.20000029e-01, 8.30000026e-01,\n",
       "        8.40000024e-01, 8.50000021e-01, 8.60000019e-01, 8.70000016e-01,\n",
       "        8.80000013e-01, 8.90000011e-01, 9.00000008e-01, 9.10000006e-01,\n",
       "        9.20000003e-01, 9.30000000e-01, 9.39999998e-01, 9.49999995e-01,\n",
       "        9.59999992e-01, 9.69999990e-01, 9.79999987e-01, 9.89999985e-01,\n",
       "        9.99999982e-01]),\n",
       " <BarContainer object of 100 artists>)"
      ]
     },
     "execution_count": 13,
     "metadata": {},
     "output_type": "execute_result"
    },
    {
     "data": {
      "image/png": "[encoded data removed]",
      "text/plain": [
       "<Figure size 432x288 with 1 Axes>"
      ]
     },
     "metadata": {
      "needs_background": "light"
     },
     "output_type": "display_data"
    }
   ],
   "source": [
    "# ten million\n",
    "N = 10_000_000\n",
    "random.seed(1)\n",
    "list_value = [random.random() for _ in range(N)]\n",
    "print(f\"list_value has {len(list_value)} elements\")\n",
    "# let's plot the histogram\n",
    "plt.hist(list_value, bins = 100)"
   ]
  },
  {
   "cell_type": "markdown",
   "metadata": {},
   "source": [
    "Producing 10 million points took a few seconds. Can we do it faster? \n",
    "\n",
    "Here is where numpy library comes into play. \n",
    "\n",
    "It also has a random module. "
   ]
  },
  {
   "cell_type": "markdown",
   "metadata": {},
   "source": [
    "## 1.2 Numpy's random module"
   ]
  },
  {
   "cell_type": "code",
   "execution_count": 14,
   "metadata": {},
   "outputs": [
    {
     "name": "stdout",
     "output_type": "stream",
     "text": [
      "0.417022004702574\n",
      "0.7203244934421581\n",
      "0.00011437481734488664\n",
      "\n",
      "0.417022004702574\n",
      "0.7203244934421581\n",
      "0.00011437481734488664\n",
      "\n",
      "type=<class 'float'>, value=0.30233257263183977\n"
     ]
    }
   ],
   "source": [
    "np.random.seed(1)\n",
    "value = np.random.random()\n",
    "print(value)\n",
    "value = np.random.random()\n",
    "print(value)\n",
    "value = np.random.random()\n",
    "print(value)\n",
    "print()\n",
    "np.random.seed(1)\n",
    "value = np.random.random()\n",
    "print(value)\n",
    "value = np.random.random()\n",
    "print(value)\n",
    "value = np.random.random()\n",
    "print(value)\n",
    "print()\n",
    "value = np.random.random()\n",
    "print(f\"type={type(value)}, value={value}\")"
   ]
  },
  {
   "cell_type": "code",
   "execution_count": 15,
   "metadata": {},
   "outputs": [
    {
     "name": "stdout",
     "output_type": "stream",
     "text": [
      "type=<class 'numpy.ndarray'>, values=[4.17022005e-01 7.20324493e-01 1.14374817e-04]\n",
      "type=<class 'numpy.ndarray'>, shape=(3,), dtype=float64, values=\n",
      "[4.17022005e-01 7.20324493e-01 1.14374817e-04]\n"
     ]
    }
   ],
   "source": [
    "# but we can also generate directly in a container\n",
    "# notice we get the same three values as before, since we reset the set again before this step\n",
    "np.random.seed(1)\n",
    "values = np.random.random(3)\n",
    "print(f\"type={type(values)}, values={values}\")\n",
    "print(f\"type={type(values)}, shape={values.shape}, dtype={values.dtype}, values=\\n{values}\")"
   ]
  },
  {
   "cell_type": "code",
   "execution_count": 16,
   "metadata": {},
   "outputs": [
    {
     "name": "stdout",
     "output_type": "stream",
     "text": [
      "type=<class 'numpy.ndarray'>, values=[4.17022005e-01 7.20324493e-01 1.14374817e-04]\n",
      "type=<class 'numpy.ndarray'>, shape=(3,), dtype=float64, values=\n",
      "[4.17022005e-01 7.20324493e-01 1.14374817e-04]\n"
     ]
    }
   ],
   "source": [
    "# we can use another name for the same function, random_sample instead of random\n",
    "# to look familiar for people moving from Matlab\n",
    "np.random.seed(1)\n",
    "values = np.random.random_sample(3)\n",
    "print(f\"type={type(values)}, values={values}\")\n",
    "print(f\"type={type(values)}, shape={values.shape}, dtype={values.dtype}, values=\\n{values}\")"
   ]
  },
  {
   "cell_type": "markdown",
   "metadata": {},
   "source": [
    "##  1.3 Timing Python vs Numpy\n",
    "\n",
    "So let's time how long it takes to create the 10 million number of elements with Python vs with Numpy"
   ]
  },
  {
   "cell_type": "code",
   "execution_count": 17,
   "metadata": {},
   "outputs": [],
   "source": [
    "from time import time"
   ]
  },
  {
   "cell_type": "code",
   "execution_count": 18,
   "metadata": {},
   "outputs": [
    {
     "name": "stdout",
     "output_type": "stream",
     "text": [
      "list_value has 10000000 elements, time to fill list is 1.945662021636963 seconds, time to plot hist is 69.54409122467041 seconds.\n"
     ]
    },
    {
     "data": {
      "image/png": "[encoded data removed]",
      "text/plain": [
       "<Figure size 432x288 with 1 Axes>"
      ]
     },
     "metadata": {
      "needs_background": "light"
     },
     "output_type": "display_data"
    }
   ],
   "source": [
    "# ten million\n",
    "N = 10_000_000\n",
    "random.seed(1)\n",
    "start1 = time()\n",
    "list_value = [random.random() for _ in range(N)]\n",
    "end1 = time()\n",
    "# let's plot the histogram\n",
    "start2 = time()\n",
    "plt.hist(list_value, bins = 100)\n",
    "end2 = time()\n",
    "print(f\"list_value has {len(list_value)} elements, time to fill list is {end1 - start1} seconds, time to plot hist is {end2 - start2} seconds.\")"
   ]
  },
  {
   "cell_type": "code",
   "execution_count": 19,
   "metadata": {},
   "outputs": [
    {
     "name": "stdout",
     "output_type": "stream",
     "text": [
      "list_value has 10000000 elements, time to fill list is 0.34282898902893066 seconds, time to plot hist is 0.26828503608703613 seconds.\n"
     ]
    },
    {
     "data": {
      "image/png": "[encoded data removed]",
      "text/plain": [
       "<Figure size 432x288 with 1 Axes>"
      ]
     },
     "metadata": {
      "needs_background": "light"
     },
     "output_type": "display_data"
    }
   ],
   "source": [
    "# ten million\n",
    "N = 10_000_000\n",
    "random.seed(1)\n",
    "start1 = time()\n",
    "list_value = np.random.random(N)\n",
    "end1 = time()\n",
    "# let's plot the histogram\n",
    "start2 = time()\n",
    "plt.hist(list_value, bins = 100)\n",
    "end2 = time()\n",
    "print(f\"list_value has {len(list_value)} elements, time to fill list is {end1 - start1} seconds, time to plot hist is {end2 - start2} seconds.\")"
   ]
  },
  {
   "cell_type": "markdown",
   "metadata": {},
   "source": [
    "Indeed, filling the container is 7 times faster, and plotting the histogram is 175 times faster.\n",
    "\n",
    "We can try an intermediate step to transform first the list into a numpy array"
   ]
  },
  {
   "cell_type": "code",
   "execution_count": 20,
   "metadata": {},
   "outputs": [
    {
     "name": "stdout",
     "output_type": "stream",
     "text": [
      "list_value has 10000000 elements, time to fill list is 1.8532421588897705 seconds, time to convert the list to a numpy array is 0.45853590965270996 seconds, time to plot hist is 0.9495387077331543 seconds.\n"
     ]
    },
    {
     "data": {
      "image/png": "[encoded data removed]",
      "text/plain": [
       "<Figure size 432x288 with 1 Axes>"
      ]
     },
     "metadata": {
      "needs_background": "light"
     },
     "output_type": "display_data"
    }
   ],
   "source": [
    "# ten million\n",
    "N = 10_000_000\n",
    "random.seed(1)\n",
    "start1 = time()\n",
    "list_value = [random.random() for _ in range(N)]\n",
    "end1 = time()\n",
    "start3 = time()\n",
    "nparray_value = np.array(list_value)\n",
    "end3 = time()\n",
    "# let's plot the histogram\n",
    "start2 = time()\n",
    "plt.hist(nparray_value, bins = 100)\n",
    "end2 = time()\n",
    "print(f\"list_value has {len(list_value)} elements, time to fill list is {end1 - start1} seconds, time to convert the list to a numpy array is {end3 - start3} seconds, time to plot hist is {end2 - start2} seconds.\")"
   ]
  },
  {
   "cell_type": "markdown",
   "metadata": {},
   "source": [
    "Yes, that is already better. So it is crucial to convert a list to numpy array before plotting in matplotlib in order to be fast. And it helps even further to create the array directly with the numpy library!"
   ]
  },
  {
   "cell_type": "markdown",
   "metadata": {},
   "source": [
    "## 1.4 Extend distribution from [0, 1) to [a, b)\n",
    "\n",
    "value => a + (b-a) * value\n",
    "\n",
    "or\n",
    "\n",
    "Python: random.uniform(a, b)\n",
    "\n",
    "Numpy: np.random.uniform(a, b, N)"
   ]
  },
  {
   "cell_type": "code",
   "execution_count": 21,
   "metadata": {},
   "outputs": [],
   "source": [
    "a = 10\n",
    "b = 15"
   ]
  },
  {
   "cell_type": "code",
   "execution_count": 22,
   "metadata": {},
   "outputs": [
    {
     "name": "stdout",
     "output_type": "stream",
     "text": [
      "type=<class 'numpy.ndarray'>, shape=(5,), dtype=float64, values=\n",
      "[10.67182122 14.23716868 13.81887309 11.27534513 12.47717544]\n",
      "type=<class 'numpy.ndarray'>, shape=(5,), dtype=float64, values=\n",
      "[10.67182122 14.23716868 13.81887309 11.27534513 12.47717544]\n"
     ]
    }
   ],
   "source": [
    "# we get exactly the same values for Python\n",
    "random.seed(1)\n",
    "values = np.array([a + (b-a) * random.random() for _ in range(5)])\n",
    "print(f\"type={type(values)}, shape={values.shape}, dtype={values.dtype}, values=\\n{values}\")\n",
    "random.seed(1)\n",
    "values = np.array([random.uniform(a, b) for _ in range(5)])\n",
    "print(f\"type={type(values)}, shape={values.shape}, dtype={values.dtype}, values=\\n{values}\")"
   ]
  },
  {
   "cell_type": "code",
   "execution_count": 23,
   "metadata": {},
   "outputs": [
    {
     "name": "stdout",
     "output_type": "stream",
     "text": [
      "list_value has 10000000 elements, time to fill list is 3.850476026535034 seconds, time to convert the list to a numpy array is 0.45537900924682617 seconds, time to plot hist is 0.4077167510986328 seconds.\n"
     ]
    },
    {
     "data": {
      "image/png": "[encoded data removed]",
      "text/plain": [
       "<Figure size 432x288 with 1 Axes>"
      ]
     },
     "metadata": {
      "needs_background": "light"
     },
     "output_type": "display_data"
    }
   ],
   "source": [
    "# ten million with Python\n",
    "N = 10_000_000\n",
    "random.seed(1)\n",
    "start1 = time()\n",
    "list_value = [a + (b - a) * random.random() for _ in range(N)]\n",
    "end1 = time()\n",
    "start3 = time()\n",
    "nparray_value = np.array(list_value)\n",
    "end3 = time()\n",
    "# let's plot the histogram\n",
    "start2 = time()\n",
    "plt.hist(nparray_value, bins = 100)\n",
    "end2 = time()\n",
    "print(f\"list_value has {len(list_value)} elements, time to fill list is {end1 - start1} seconds, time to convert the list to a numpy array is {end3 - start3} seconds, time to plot hist is {end2 - start2} seconds.\")"
   ]
  },
  {
   "cell_type": "code",
   "execution_count": 24,
   "metadata": {},
   "outputs": [
    {
     "name": "stdout",
     "output_type": "stream",
     "text": [
      "list_value has 10000000 elements, time to fill list is 4.926265716552734 seconds, time to convert the list to a numpy array is 0.4452321529388428 seconds, time to plot hist is 0.4341700077056885 seconds.\n"
     ]
    },
    {
     "data": {
      "image/png": "[encoded data removed]",
      "text/plain": [
       "<Figure size 432x288 with 1 Axes>"
      ]
     },
     "metadata": {
      "needs_background": "light"
     },
     "output_type": "display_data"
    }
   ],
   "source": [
    "# ten million with Python\n",
    "N = 10_000_000\n",
    "random.seed(1)\n",
    "start1 = time()\n",
    "list_value = [random.uniform(a, b) for _ in range(N)]\n",
    "end1 = time()\n",
    "start3 = time()\n",
    "nparray_value = np.array(list_value)\n",
    "end3 = time()\n",
    "# let's plot the histogram\n",
    "start2 = time()\n",
    "plt.hist(nparray_value, bins = 100)\n",
    "end2 = time()\n",
    "print(f\"list_value has {len(list_value)} elements, time to fill list is {end1 - start1} seconds, time to convert the list to a numpy array is {end3 - start3} seconds, time to plot hist is {end2 - start2} seconds.\")"
   ]
  },
  {
   "cell_type": "code",
   "execution_count": 25,
   "metadata": {},
   "outputs": [
    {
     "name": "stdout",
     "output_type": "stream",
     "text": [
      "type=<class 'numpy.ndarray'>, shape=(5,), dtype=float64, values=\n",
      "[12.08511002 13.60162247 10.00057187 11.51166286 10.73377945]\n",
      "type=<class 'numpy.ndarray'>, shape=(5,), dtype=float64, values=\n",
      "[12.08511002 13.60162247 10.00057187 11.51166286 10.73377945]\n"
     ]
    }
   ],
   "source": [
    "# we get exactly the same values for Numpy\n",
    "np.random.seed(1)\n",
    "values = a + (b-a) * np.random.random(5)\n",
    "print(f\"type={type(values)}, shape={values.shape}, dtype={values.dtype}, values=\\n{values}\")\n",
    "np.random.seed(1)\n",
    "values = np.array([np.random.uniform(a, b) for _ in range(5)])\n",
    "print(f\"type={type(values)}, shape={values.shape}, dtype={values.dtype}, values=\\n{values}\")"
   ]
  },
  {
   "cell_type": "code",
   "execution_count": 26,
   "metadata": {},
   "outputs": [
    {
     "name": "stdout",
     "output_type": "stream",
     "text": [
      "list_value has 10000000 elements, time to fill list is 0.14302372932434082 seconds, time to plot hist is 0.49533915519714355 seconds.\n"
     ]
    },
    {
     "data": {
      "image/png": "[encoded data removed]",
      "text/plain": [
       "<Figure size 432x288 with 1 Axes>"
      ]
     },
     "metadata": {
      "needs_background": "light"
     },
     "output_type": "display_data"
    }
   ],
   "source": [
    "# ten million with Numpy\n",
    "N = 10_000_000\n",
    "np.random.seed(1)\n",
    "start1 = time()\n",
    "nparray_value = a + (b - a) * np.random.random(N)\n",
    "end1 = time()\n",
    "# let's plot the histogram\n",
    "start2 = time()\n",
    "plt.hist(nparray_value, bins = 100)\n",
    "end2 = time()\n",
    "print(f\"list_value has {len(list_value)} elements, time to fill list is {end1 - start1} seconds, time to plot hist is {end2 - start2} seconds.\")"
   ]
  },
  {
   "cell_type": "code",
   "execution_count": 27,
   "metadata": {},
   "outputs": [
    {
     "name": "stdout",
     "output_type": "stream",
     "text": [
      "list_value has 10000000 elements, time to fill list is 0.12857770919799805 seconds, time to plot hist is 0.2839808464050293 seconds.\n"
     ]
    },
    {
     "data": {
      "image/png": "[encoded data removed]",
      "text/plain": [
       "<Figure size 432x288 with 1 Axes>"
      ]
     },
     "metadata": {
      "needs_background": "light"
     },
     "output_type": "display_data"
    }
   ],
   "source": [
    "# ten million with Numpy\n",
    "N = 10_000_000\n",
    "np.random.seed(1)\n",
    "start1 = time()\n",
    "nparray_value = np.random.uniform(a, b, N)\n",
    "end1 = time()\n",
    "# let's plot the histogram\n",
    "start2 = time()\n",
    "plt.hist(nparray_value, bins = 100)\n",
    "end2 = time()\n",
    "print(f\"list_value has {len(list_value)} elements, time to fill list is {end1 - start1} seconds, time to plot hist is {end2 - start2} seconds.\")"
   ]
  },
  {
   "cell_type": "markdown",
   "metadata": {},
   "source": [
    "It is confirmed the range looks like expected and indeed using Numpy is faster than using native Python.\n",
    "\n",
    "Now let's move also for floats to have other distributions."
   ]
  },
  {
   "cell_type": "markdown",
   "metadata": {},
   "source": [
    "# 2. Float from a Gaussian distribution\n",
    "\n",
    "Python1: np.array([random.gauss(mu, sigma) for _ in range(N)]\n",
    "\n",
    "Python2: np.array([random.normalvariate(mu, sigma) for _ in range(N)]\n",
    "\n",
    "normalvariate is a bit slower than .gauss, but is thread-safe. It means that when running in multi-threading, gauss can sometimes return the same output to all the threads. There are ways to avoid that, like using a different seed number to each thread. But best to use normalvariate() instad. \n",
    "\n",
    "Numpy 1: mu + sigma * np.random.nrandn(N)\n",
    "\n",
    "Numpy 2: np.random.normal(mu, sigma, N)"
   ]
  },
  {
   "cell_type": "code",
   "execution_count": 28,
   "metadata": {},
   "outputs": [
    {
     "name": "stdout",
     "output_type": "stream",
     "text": [
      "type=<class 'numpy.ndarray'>, shape=(5,), dtype=float64, values=\n",
      "[7.57636951 7.89889122 5.13267162 3.4709127  2.81565357]\n",
      "type=<class 'numpy.ndarray'>, shape=(5,), dtype=float64, values=\n",
      "[6.21491172 4.97154911 7.46181446 7.03096233 4.32708614]\n",
      "type=<class 'numpy.ndarray'>, shape=(5,), dtype=float64, values=\n",
      "[7.57636951 7.89889122 5.13267162 3.4709127  2.81565357]\n",
      "type=<class 'numpy.ndarray'>, shape=(5,), dtype=float64, values=\n",
      "[6.21491172 4.97154911 7.46181446 7.03096233 4.32708614]\n"
     ]
    }
   ],
   "source": [
    "# we get exactly the same values for Python\n",
    "# note that for the same seed, random.gauss and random.normalvariate do not get the same values\n",
    "mu = 5.0\n",
    "sigma = 2.0\n",
    "random.seed(1)\n",
    "values = np.array([random.gauss(mu, sigma) for _ in range(5)])\n",
    "print(f\"type={type(values)}, shape={values.shape}, dtype={values.dtype}, values=\\n{values}\")\n",
    "random.seed(1)\n",
    "values = np.array([random.normalvariate(mu, sigma) for _ in range(5)])\n",
    "print(f\"type={type(values)}, shape={values.shape}, dtype={values.dtype}, values=\\n{values}\")\n",
    "random.seed(1)\n",
    "values = np.array([random.gauss(mu, sigma) for _ in range(5)])\n",
    "print(f\"type={type(values)}, shape={values.shape}, dtype={values.dtype}, values=\\n{values}\")\n",
    "random.seed(1)\n",
    "values = np.array([random.normalvariate(mu, sigma) for _ in range(5)])\n",
    "print(f\"type={type(values)}, shape={values.shape}, dtype={values.dtype}, values=\\n{values}\")"
   ]
  },
  {
   "cell_type": "code",
   "execution_count": 29,
   "metadata": {},
   "outputs": [
    {
     "name": "stdout",
     "output_type": "stream",
     "text": [
      "list_value has 10000000 elements, time to fill list is 9.65684986114502 seconds, time to convert the list to a numpy array is 0.49593305587768555 seconds, time to plot hist is 0.45888304710388184 seconds.\n"
     ]
    },
    {
     "data": {
      "image/png": "[encoded data removed]",
      "text/plain": [
       "<Figure size 432x288 with 1 Axes>"
      ]
     },
     "metadata": {
      "needs_background": "light"
     },
     "output_type": "display_data"
    }
   ],
   "source": [
    "# ten million with Python\n",
    "mu = 0.0\n",
    "sigma = 1.0\n",
    "N = 10000000\n",
    "random.seed(1)\n",
    "start1 = time()\n",
    "list_value = [random.gauss(mu, sigma) for _ in range(N)]\n",
    "end1 = time()\n",
    "start3 = time()\n",
    "nparray_value = np.array(list_value)\n",
    "end3 = time()\n",
    "# let's plot the histogram\n",
    "start2 = time()\n",
    "title = f\"Python: Gauss with {N} elements for mu={mu:.3f}, sigma={sigma:.3f}\"\n",
    "label = f\"Obtained: mean={np.mean(nparray_value):.3f}, std={np.std(nparray_value):.3f}\"\n",
    "plt.hist(nparray_value, bins = 100, label = label)\n",
    "plt.title(title)\n",
    "plt.legend()\n",
    "end2 = time()\n",
    "print(f\"list_value has {len(list_value)} elements, time to fill list is {end1 - start1} seconds, time to convert the list to a numpy array is {end3 - start3} seconds, time to plot hist is {end2 - start2} seconds.\")"
   ]
  },
  {
   "cell_type": "code",
   "execution_count": 30,
   "metadata": {},
   "outputs": [
    {
     "name": "stdout",
     "output_type": "stream",
     "text": [
      "list_value has 10000000 elements, time to fill list is 12.355411767959595 seconds, time to convert the list to a numpy array is 0.4900352954864502 seconds, time to plot hist is 0.535646915435791 seconds.\n"
     ]
    },
    {
     "data": {
      "image/png": "[encoded data removed]",
      "text/plain": [
       "<Figure size 432x288 with 1 Axes>"
      ]
     },
     "metadata": {
      "needs_background": "light"
     },
     "output_type": "display_data"
    }
   ],
   "source": [
    "# ten million with Python\n",
    "mu = 0.0\n",
    "sigma = 1.0\n",
    "N = 10_000_000\n",
    "random.seed(1)\n",
    "start1 = time()\n",
    "list_value = [random.normalvariate(mu, sigma) for _ in range(N)]\n",
    "end1 = time()\n",
    "start3 = time()\n",
    "nparray_value = np.array(list_value)\n",
    "end3 = time()\n",
    "# let's plot the histogram\n",
    "start2 = time()\n",
    "title = f\"Python: Normalvariate with {N} elements for mu={mu:.3f}, sigma={sigma:.3f}\"\n",
    "label = f\"Obtained: mean={np.mean(nparray_value):.3f}, std={np.std(nparray_value):.3f}\"\n",
    "plt.hist(nparray_value, bins = 100, label = label)\n",
    "plt.title(title)\n",
    "plt.legend()\n",
    "end2 = time()\n",
    "print(f\"list_value has {len(list_value)} elements, time to fill list is {end1 - start1} seconds, time to convert the list to a numpy array is {end3 - start3} seconds, time to plot hist is {end2 - start2} seconds.\")"
   ]
  },
  {
   "cell_type": "code",
   "execution_count": 31,
   "metadata": {},
   "outputs": [
    {
     "name": "stdout",
     "output_type": "stream",
     "text": [
      "list_value has 10000000 elements, time to fill list is 0.3460969924926758 seconds, time to convert the list to a numpy array is 0.4900352954864502 seconds, time to plot hist is 0.332165002822876 seconds.\n"
     ]
    },
    {
     "data": {
      "image/png": "[encoded data removed]",
      "text/plain": [
       "<Figure size 432x288 with 1 Axes>"
      ]
     },
     "metadata": {
      "needs_background": "light"
     },
     "output_type": "display_data"
    }
   ],
   "source": [
    "# ten million with Numpy\n",
    "mu = 0.0\n",
    "sigma = 1.0\n",
    "N = 10_000_000\n",
    "np.random.seed(1)\n",
    "start1 = time()\n",
    "nparray_value = np.random.randn(N)\n",
    "end1 = time()\n",
    "# let's plot the histogram\n",
    "start2 = time()\n",
    "title = f\"Numpy: Gauss with {N} elements for mu={mu:.3f}, sigma={sigma:.3f}\"\n",
    "label = f\"Obtained: mean={np.mean(nparray_value):.3f}, std={np.std(nparray_value):.3f}\"\n",
    "plt.hist(nparray_value, bins = 100, label = label)\n",
    "plt.title(title)\n",
    "plt.legend()\n",
    "end2 = time()\n",
    "print(f\"list_value has {len(list_value)} elements, time to fill list is {end1 - start1} seconds, time to convert the list to a numpy array is {end3 - start3} seconds, time to plot hist is {end2 - start2} seconds.\")"
   ]
  },
  {
   "cell_type": "markdown",
   "metadata": {},
   "source": [
    "For values of mu and sigma other than the default, stil the same steps for Python, but for Numpy we only have the (0, 1) so we need to multiply with sigma and add mu. "
   ]
  },
  {
   "cell_type": "code",
   "execution_count": 32,
   "metadata": {},
   "outputs": [
    {
     "name": "stdout",
     "output_type": "stream",
     "text": [
      "list_value has 10000000 elements, time to fill list is 10.655413150787354 seconds, time to convert the list to a numpy array is 0.9206938743591309 seconds, time to plot hist is 0.9015932083129883 seconds.\n"
     ]
    },
    {
     "data": {
      "image/png": "[encoded data removed]",
      "text/plain": [
       "<Figure size 432x288 with 1 Axes>"
      ]
     },
     "metadata": {
      "needs_background": "light"
     },
     "output_type": "display_data"
    }
   ],
   "source": [
    "# ten million with Python\n",
    "mu = 5.0\n",
    "sigma = 2.0\n",
    "N = 10_000_000\n",
    "random.seed(1)\n",
    "start1 = time()\n",
    "list_value = [random.gauss(mu, sigma) for _ in range(N)]\n",
    "end1 = time()\n",
    "start3 = time()\n",
    "nparray_value = np.array(list_value)\n",
    "end3 = time()\n",
    "# let's plot the histogram\n",
    "start2 = time()\n",
    "title = f\"Python: Gauss with {N} elements for mu={mu:.3f}, sigma={sigma:.3f}\"\n",
    "label = f\"Obtained: mean={np.mean(nparray_value):.3f}, std={np.std(nparray_value):.3f}\"\n",
    "plt.hist(nparray_value, bins = 100, label = label)\n",
    "plt.title(title)\n",
    "plt.legend()\n",
    "end2 = time()\n",
    "print(f\"list_value has {len(list_value)} elements, time to fill list is {end1 - start1} seconds, time to convert the list to a numpy array is {end3 - start3} seconds, time to plot hist is {end2 - start2} seconds.\")"
   ]
  },
  {
   "cell_type": "code",
   "execution_count": 33,
   "metadata": {},
   "outputs": [
    {
     "name": "stdout",
     "output_type": "stream",
     "text": [
      "list_value has 10000000 elements, time to fill list is 0.44211912155151367 seconds, time to convert the list to a numpy array is 0.9206938743591309 seconds, time to plot hist is 0.4554479122161865 seconds.\n"
     ]
    },
    {
     "data": {
      "image/png": "[encoded data removed]",
      "text/plain": [
       "<Figure size 432x288 with 1 Axes>"
      ]
     },
     "metadata": {
      "needs_background": "light"
     },
     "output_type": "display_data"
    }
   ],
   "source": [
    "# ten million with Numpy\n",
    "mu = 5.0\n",
    "sigma = 2.0\n",
    "N = 10_000_000\n",
    "np.random.seed(1)\n",
    "start1 = time()\n",
    "nparray_value = mu + sigma * np.random.randn(N)\n",
    "end1 = time()\n",
    "# let's plot the histogram\n",
    "start2 = time()\n",
    "title = f\"Numpy: Gauss with {N} elements for mu={mu:.3f}, sigma={sigma:.3f}\"\n",
    "label = f\"Obtained: mean={np.mean(nparray_value):.3f}, std={np.std(nparray_value):.3f}\"\n",
    "plt.hist(nparray_value, bins = 100, label = label)\n",
    "plt.title(title)\n",
    "plt.legend()\n",
    "end2 = time()\n",
    "print(f\"list_value has {len(list_value)} elements, time to fill list is {end1 - start1} seconds, time to convert the list to a numpy array is {end3 - start3} seconds, time to plot hist is {end2 - start2} seconds.\")"
   ]
  },
  {
   "cell_type": "code",
   "execution_count": 34,
   "metadata": {},
   "outputs": [
    {
     "name": "stdout",
     "output_type": "stream",
     "text": [
      "list_value has 10000000 elements, time to fill list is 0.35596370697021484 seconds, time to convert the list to a numpy array is 0.9206938743591309 seconds, time to plot hist is 0.7318980693817139 seconds.\n"
     ]
    },
    {
     "data": {
      "image/png": "[encoded data removed]",
      "text/plain": [
       "<Figure size 432x288 with 1 Axes>"
      ]
     },
     "metadata": {
      "needs_background": "light"
     },
     "output_type": "display_data"
    }
   ],
   "source": [
    "# ten million with Numpy\n",
    "mu = 5.0\n",
    "sigma = 2.0\n",
    "N = 10_000_000\n",
    "np.random.seed(1)\n",
    "start1 = time()\n",
    "nparray_value = np.random.normal(mu, sigma, N)\n",
    "end1 = time()\n",
    "# let's plot the histogram\n",
    "start2 = time()\n",
    "title = f\"Numpy: Normal with {N} elements for mu={mu:.3f}, sigma={sigma:.3f}\"\n",
    "label = f\"Obtained: mean={np.mean(nparray_value):.3f}, std={np.std(nparray_value):.3f}\"\n",
    "plt.hist(nparray_value, bins = 100, label = label)\n",
    "plt.title(title)\n",
    "plt.legend()\n",
    "end2 = time()\n",
    "print(f\"list_value has {len(list_value)} elements, time to fill list is {end1 - start1} seconds, time to convert the list to a numpy array is {end3 - start3} seconds, time to plot hist is {end2 - start2} seconds.\")"
   ]
  },
  {
   "cell_type": "markdown",
   "metadata": {},
   "source": [
    "# 3. Float from the lognormal distribution\n",
    "\n",
    "https://en.wikipedia.org/wiki/Log-normal_distribution\n",
    "\n",
    "Python: np.array([random.lognormvariate(mu, sigma) for _ in range(N)])\n",
    "\n",
    "Numpy: np.random.lognormal(mu, sigma, N)"
   ]
  },
  {
   "cell_type": "code",
   "execution_count": 35,
   "metadata": {},
   "outputs": [
    {
     "name": "stdout",
     "output_type": "stream",
     "text": [
      "type=<class 'numpy.ndarray'>, shape=(5,), dtype=float64, values=\n",
      "[ 500.15183148  144.25017362 1740.30290124 1131.11860089   75.723318  ]\n",
      "type=<class 'numpy.ndarray'>, shape=(5,), dtype=float64, values=\n",
      "[3822.61769476   43.66239358   51.60695734   17.35816074  837.83003578]\n"
     ]
    }
   ],
   "source": [
    "mu = 5.0\n",
    "sigma = 2.0\n",
    "N = 5\n",
    "random.seed(1)\n",
    "values = np.array([random.lognormvariate(mu, sigma) for _ in range(N)])\n",
    "print(f\"type={type(values)}, shape={values.shape}, dtype={values.dtype}, values=\\n{values}\")\n",
    "np.random.seed(1)\n",
    "values = np.random.lognormal(mu, sigma, N)\n",
    "print(f\"type={type(values)}, shape={values.shape}, dtype={values.dtype}, values=\\n{values}\")"
   ]
  },
  {
   "cell_type": "code",
   "execution_count": 36,
   "metadata": {},
   "outputs": [
    {
     "name": "stdout",
     "output_type": "stream",
     "text": [
      "list_value has 10000000 elements, time to fill list is 20.91420578956604 seconds, time to convert the list to a numpy array is 0.8262012004852295 seconds, time to plot hist is 1.4019191265106201 seconds.\n"
     ]
    },
    {
     "data": {
      "image/png": "[encoded data removed]",
      "text/plain": [
       "<Figure size 432x288 with 1 Axes>"
      ]
     },
     "metadata": {
      "needs_background": "light"
     },
     "output_type": "display_data"
    }
   ],
   "source": [
    "# ten million with Python\n",
    "mu = 0.0\n",
    "sigma = 0.25\n",
    "N = 10_000_000\n",
    "random.seed(1)\n",
    "start1 = time()\n",
    "list_value = [random.lognormvariate(mu, sigma) for _ in range(N)]\n",
    "end1 = time()\n",
    "start3 = time()\n",
    "nparray_value = np.array(list_value)\n",
    "end3 = time()\n",
    "# let's plot the histogram\n",
    "start2 = time()\n",
    "title = f\"Python: LogNormVariate with {N} elements for mu={mu:.3f}, sigma={sigma:.3f}\"\n",
    "label = f\"Obtained: mean={np.mean(nparray_value):.3f}, std={np.std(nparray_value):.3f}\"\n",
    "plt.hist(nparray_value, bins = 100, label = label)\n",
    "plt.title(title)\n",
    "plt.legend()\n",
    "end2 = time()\n",
    "print(f\"list_value has {len(list_value)} elements, time to fill list is {end1 - start1} seconds, time to convert the list to a numpy array is {end3 - start3} seconds, time to plot hist is {end2 - start2} seconds.\")"
   ]
  },
  {
   "cell_type": "code",
   "execution_count": 37,
   "metadata": {},
   "outputs": [
    {
     "name": "stdout",
     "output_type": "stream",
     "text": [
      "list_value has 10000000 elements, time to fill list is 0.5891261100769043 seconds, time to convert the list to a numpy array is 0.8262012004852295 seconds, time to plot hist is 0.38060617446899414 seconds.\n"
     ]
    },
    {
     "data": {
      "image/png": "[encoded data removed]",
      "text/plain": [
       "<Figure size 432x288 with 1 Axes>"
      ]
     },
     "metadata": {
      "needs_background": "light"
     },
     "output_type": "display_data"
    }
   ],
   "source": [
    "# ten million with Numpy\n",
    "mu = 0.0\n",
    "sigma = 0.25\n",
    "N = 10_000_000\n",
    "np.random.seed(1)\n",
    "start1 = time()\n",
    "nparray_value = np.random.lognormal(mu, sigma, N)\n",
    "end1 = time()\n",
    "# let's plot the histogram\n",
    "start2 = time()\n",
    "title = f\"Numpy: LogNormal with {N} elements for mu={mu:.3f}, sigma={sigma:.3f}\"\n",
    "label = f\"Obtained: mean={np.mean(nparray_value):.3f}, std={np.std(nparray_value):.3f}\"\n",
    "plt.hist(nparray_value, bins = 100, label = label)\n",
    "plt.title(title)\n",
    "plt.legend()\n",
    "end2 = time()\n",
    "print(f\"list_value has {len(list_value)} elements, time to fill list is {end1 - start1} seconds, time to convert the list to a numpy array is {end3 - start3} seconds, time to plot hist is {end2 - start2} seconds.\")"
   ]
  },
  {
   "cell_type": "markdown",
   "metadata": {},
   "source": [
    "# 4. Floats from other distributions\n",
    "\n",
    "Python: https://www.w3schools.com/python/module_random.asp\n",
    "\n",
    "Python: https://docs.python.org/3/library/random.html#real-valued-distributions"
   ]
  },
  {
   "cell_type": "code",
   "execution_count": null,
   "metadata": {},
   "outputs": [],
   "source": []
  }
 ],
 "metadata": {
  "kernelspec": {
   "display_name": "Python 3",
   "language": "python",
   "name": "python3"
  },
  "language_info": {
   "codemirror_mode": {
    "name": "ipython",
    "version": 3
   },
   "file_extension": ".py",
   "mimetype": "text/x-python",
   "name": "python",
   "nbconvert_exporter": "python",
   "pygments_lexer": "ipython3",
   "version": "3.9.0"
  }
 },
 "nbformat": 4,
 "nbformat_minor": 4
}
