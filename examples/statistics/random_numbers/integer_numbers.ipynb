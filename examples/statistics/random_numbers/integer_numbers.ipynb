{
 "cells": [
  {
   "cell_type": "markdown",
   "metadata": {},
   "source": [
    "# Integer random numbers in Python and Numpy\n",
    "\n",
    "https://towardsdatascience.com/how-to-generate-random-numbers-in-python-eb5aecf3e059\n",
    "\n",
    "https://www.pythonpool.com/numpy-random/\n",
    "\n",
    "https://www.javatpoint.com/numpy-random\n",
    "\n",
    "The integers are selected from a linear uniform distribution\n",
    "\n",
    "Python in closed [a, b]:\n",
    "\n",
    "* np.array([np.array(random.randint(a, b) for _ in range(N)])\n",
    "\n",
    "Numpy in semi-open [a, b):\n",
    "\n",
    "* np.random.randint(a, b, N)"
   ]
  },
  {
   "cell_type": "code",
   "execution_count": 1,
   "metadata": {},
   "outputs": [],
   "source": [
    "import random\n",
    "import numpy as np\n",
    "import matplotlib.pyplot as plt\n",
    "import copy\n",
    "from time import time"
   ]
  },
  {
   "cell_type": "code",
   "execution_count": 2,
   "metadata": {},
   "outputs": [],
   "source": [
    "a = 10\n",
    "b = 20\n",
    "N = 10"
   ]
  },
  {
   "cell_type": "code",
   "execution_count": 3,
   "metadata": {},
   "outputs": [
    {
     "name": "stdout",
     "output_type": "stream",
     "text": [
      "type=<class 'numpy.ndarray'>, shape=(10,), dtype=int64, values=\n",
      "[12 19 11 14 11 17 17 17 20 16]\n",
      "type=<class 'numpy.ndarray'>, shape=(10,), dtype=int64, values=\n",
      "[12 19 11 14 11 17 17 17 20 16]\n"
     ]
    }
   ],
   "source": [
    "# Python\n",
    "random.seed(1)\n",
    "values = np.array([random.randint(a, b) for _ in range(N)])\n",
    "print(f\"type={type(values)}, shape={values.shape}, dtype={values.dtype}, values=\\n{values}\")\n",
    "\n",
    "random.seed(1)\n",
    "values = np.array([random.randint(a, b) for _ in range(N)])\n",
    "print(f\"type={type(values)}, shape={values.shape}, dtype={values.dtype}, values=\\n{values}\")"
   ]
  },
  {
   "cell_type": "code",
   "execution_count": 4,
   "metadata": {},
   "outputs": [
    {
     "name": "stdout",
     "output_type": "stream",
     "text": [
      "type=<class 'numpy.ndarray'>, shape=(10,), dtype=int64, values=\n",
      "[15 18 19 15 10 10 11 17 16 19]\n",
      "type=<class 'numpy.ndarray'>, shape=(10,), dtype=int64, values=\n",
      "[15 18 19 15 10 10 11 17 16 19]\n"
     ]
    }
   ],
   "source": [
    "# Numpy \n",
    "np.random.seed(1)\n",
    "values = np.random.randint(a, b, N)\n",
    "print(f\"type={type(values)}, shape={values.shape}, dtype={values.dtype}, values=\\n{values}\")\n",
    "\n",
    "np.random.seed(1)\n",
    "values = np.random.randint(a, b, N)\n",
    "print(f\"type={type(values)}, shape={values.shape}, dtype={values.dtype}, values=\\n{values}\")"
   ]
  },
  {
   "cell_type": "code",
   "execution_count": 5,
   "metadata": {},
   "outputs": [
    {
     "name": "stdout",
     "output_type": "stream",
     "text": [
      "\n",
      "type=<class 'numpy.ndarray'>, shape=(3, 2), dtype=int64, values=\n",
      "[[13 14]\n",
      " [10 11]\n",
      " [13 10]]\n",
      "\n",
      "type=<class 'numpy.ndarray'>, shape=(3, 2), dtype=int8, values=\n",
      "[[10 10]\n",
      " [13 11]\n",
      " [10 14]]\n",
      "\n",
      "type=<class 'numpy.ndarray'>, shape=(3, 2), dtype=int32, values=\n",
      "[[14 11]\n",
      " [12 14]\n",
      " [12 14]]\n"
     ]
    }
   ],
   "source": [
    "# Numpy with other arguments\n",
    "# generate integers in interval [10, 15) in a particular shape\n",
    "print()\n",
    "np.random.seed(1)\n",
    "values = np.random.randint(10, 15, (3, 2))\n",
    "print(f\"type={type(values)}, shape={values.shape}, dtype={values.dtype}, values=\\n{values}\")\n",
    "# mention the data type you want\n",
    "print()\n",
    "values = np.random.randint(10, 15, (3, 2), np.int8)\n",
    "print(f\"type={type(values)}, shape={values.shape}, dtype={values.dtype}, values=\\n{values}\")\n",
    "print()\n",
    "values = np.random.randint(10, 15, (3, 2), np.int32)\n",
    "print(f\"type={type(values)}, shape={values.shape}, dtype={values.dtype}, values=\\n{values}\")"
   ]
  },
  {
   "cell_type": "code",
   "execution_count": 6,
   "metadata": {},
   "outputs": [
    {
     "data": {
      "text/plain": [
       "[9.5, 10.5, 11.5, 12.5, 13.5, 14.5, 15.5]"
      ]
     },
     "execution_count": 6,
     "metadata": {},
     "output_type": "execute_result"
    }
   ],
   "source": [
    "bins = [i-0.5 for i in range(10, 17)]\n",
    "bins"
   ]
  },
  {
   "cell_type": "code",
   "execution_count": 7,
   "metadata": {},
   "outputs": [
    {
     "name": "stdout",
     "output_type": "stream",
     "text": [
      "list_value has 10000000 elements, time to fill list is 26.144572973251343 seconds, time to convert the list to a numpy array is 1.7485179901123047 seconds, time to plot hist is 1.1147899627685547 seconds.\n"
     ]
    },
    {
     "data": {
      "image/png": "[encoded data removed]",
      "text/plain": [
       "<Figure size 432x288 with 1 Axes>"
      ]
     },
     "metadata": {
      "needs_background": "light"
     },
     "output_type": "display_data"
    }
   ],
   "source": [
    "# ten million with Python - closed interval [a, b]\n",
    "a = 10\n",
    "b = 15\n",
    "N = 10000000\n",
    "random.seed(1)\n",
    "start1 = time()\n",
    "list_value = [random.randint(a, b) for _ in range(N)]\n",
    "end1 = time()\n",
    "start3 = time()\n",
    "nparray_value = np.array(list_value)\n",
    "end3 = time()\n",
    "# let's plot the histogram\n",
    "start2 = time()\n",
    "title = f\"Python: Linear with {N} elements for a={a:.3f}, b={b:.3f}\"\n",
    "label = f\"Obtained: mean={np.mean(nparray_value):.3f}, std={np.std(nparray_value):.3f}\"\n",
    "plt.hist(nparray_value, bins = bins, label = label)\n",
    "plt.title(title)\n",
    "plt.legend()\n",
    "end2 = time()\n",
    "print(f\"list_value has {len(list_value)} elements, time to fill list is {end1 - start1} seconds, time to convert the list to a numpy array is {end3 - start3} seconds, time to plot hist is {end2 - start2} seconds.\")"
   ]
  },
  {
   "cell_type": "code",
   "execution_count": 8,
   "metadata": {},
   "outputs": [
    {
     "name": "stdout",
     "output_type": "stream",
     "text": [
      "list_value has 10000000 elements, time to fill list is 0.3213920593261719 seconds, time to convert the list to a numpy array is 1.7485179901123047 seconds, time to plot hist is 0.48865318298339844 seconds.\n"
     ]
    },
    {
     "data": {
      "image/png": "[encoded data removed]",
      "text/plain": [
       "<Figure size 432x288 with 1 Axes>"
      ]
     },
     "metadata": {
      "needs_background": "light"
     },
     "output_type": "display_data"
    }
   ],
   "source": [
    "# ten million with Numpy - open interval [a, b)\n",
    "a = 10\n",
    "b = 15\n",
    "N = 10000000\n",
    "np.random.seed(1)\n",
    "start1 = time()\n",
    "nparray_value = np.random.randint(a, b, N)\n",
    "end1 = time()\n",
    "# let's plot the histogram\n",
    "start2 = time()\n",
    "title = f\"Numpy: Linear with {N} elements for a={a:.3f}, b={b:.3f}\"\n",
    "label = f\"Obtained: mean={np.mean(nparray_value):.3f}, std={np.std(nparray_value):.3f}\"\n",
    "plt.hist(nparray_value, bins = bins, label = label)\n",
    "plt.title(title)\n",
    "plt.legend()\n",
    "end2 = time()\n",
    "print(f\"list_value has {len(list_value)} elements, time to fill list is {end1 - start1} seconds, time to convert the list to a numpy array is {end3 - start3} seconds, time to plot hist is {end2 - start2} seconds.\")"
   ]
  },
  {
   "cell_type": "markdown",
   "metadata": {},
   "source": [
    "Observe how indeed b = 15 is not drawn. To also draw it, we extend the value by one."
   ]
  },
  {
   "cell_type": "code",
   "execution_count": 9,
   "metadata": {},
   "outputs": [
    {
     "name": "stdout",
     "output_type": "stream",
     "text": [
      "list_value has 10000000 elements, time to fill list is 0.29252099990844727 seconds, time to convert the list to a numpy array is 1.7485179901123047 seconds, time to plot hist is 1.2289409637451172 seconds.\n"
     ]
    },
    {
     "data": {
      "image/png": "[encoded data removed]",
      "text/plain": [
       "<Figure size 432x288 with 1 Axes>"
      ]
     },
     "metadata": {
      "needs_background": "light"
     },
     "output_type": "display_data"
    }
   ],
   "source": [
    "# ten million with Numpy - open interval [a, b]\n",
    "a = 10\n",
    "b = 15\n",
    "N = 10000000\n",
    "np.random.seed(1)\n",
    "start1 = time()\n",
    "nparray_value = np.random.randint(a, b+1, N)\n",
    "end1 = time()\n",
    "# let's plot the histogram\n",
    "start2 = time()\n",
    "title = f\"Numpy: Linear with {N} elements for a={a:.3f}, b={b:.3f}\"\n",
    "label = f\"Obtained: mean={np.mean(nparray_value):.3f}, std={np.std(nparray_value):.3f}\"\n",
    "plt.hist(nparray_value, bins = bins, label = label)\n",
    "plt.title(title)\n",
    "plt.legend()\n",
    "end2 = time()\n",
    "print(f\"list_value has {len(list_value)} elements, time to fill list is {end1 - start1} seconds, time to convert the list to a numpy array is {end3 - start3} seconds, time to plot hist is {end2 - start2} seconds.\")"
   ]
  }
 ],
 "metadata": {
  "kernelspec": {
   "display_name": "Python 3",
   "language": "python",
   "name": "python3"
  },
  "language_info": {
   "codemirror_mode": {
    "name": "ipython",
    "version": 3
   },
   "file_extension": ".py",
   "mimetype": "text/x-python",
   "name": "python",
   "nbconvert_exporter": "python",
   "pygments_lexer": "ipython3",
   "version": "3.9.0"
  }
 },
 "nbformat": 4,
 "nbformat_minor": 4
}
